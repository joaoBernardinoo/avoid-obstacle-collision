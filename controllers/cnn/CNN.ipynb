{
  "cells": [
    {
      "cell_type": "markdown",
      "metadata": {
        "colab_type": "text",
        "id": "view-in-github"
      },
      "source": [
        "<a href=\"https://colab.research.google.com/github/joaoBernardinoo/avoid-obstacle-collision/blob/main/controllers/cnn/CNN.ipynb\" target=\"_parent\"><img src=\"https://colab.research.google.com/assets/colab-badge.svg\" alt=\"Open In Colab\"/></a>"
      ]
    },
    {
      "cell_type": "code",
      "execution_count": 45,
      "metadata": {
        "id": "HMed1VoAhSCt"
      },
      "outputs": [],
      "source": [
        "import torch\n",
        "import torch.nn as nn\n",
        "import sys\n",
        "import os\n",
        "import h5py\n",
        "from pathlib import Path\n",
        "from tqdm import tqdm\n",
        "import matplotlib.pyplot as plt\n",
        "import numpy as np\n",
        "import torch\n",
        "import torch.nn as nn\n",
        "import torch.optim as optim\n",
        "from torch.utils.data import TensorDataset, DataLoader\n",
        "from sklearn.model_selection import KFold\n",
        "import matplotlib\n",
        "\n",
        "from models import LidarVisionFusionNet"
      ]
    },
    {
      "cell_type": "code",
      "execution_count": null,
      "metadata": {},
      "outputs": [],
      "source": []
    },
    {
      "cell_type": "code",
      "execution_count": 28,
      "metadata": {},
      "outputs": [
        {
          "name": "stdout",
          "output_type": "stream",
          "text": [
            "The autoreload extension is already loaded. To reload it, use:\n",
            "  %reload_ext autoreload\n"
          ]
        }
      ],
      "source": [
        "%load_ext autoreload\n",
        "\n",
        "%autoreload 2"
      ]
    },
    {
      "cell_type": "code",
      "execution_count": 46,
      "metadata": {
        "colab": {
          "base_uri": "https://localhost:8080/"
        },
        "id": "FEpWOyTohWF0",
        "outputId": "948e546b-82f5-4ce4-c57c-91a43e859ae7"
      },
      "outputs": [],
      "source": [
        "# @title Drive\n",
        "if 'google.colab' in sys.modules:\n",
        "  from google.colab import drive\n",
        "  drive.mount('/content/drive')\n",
        "  project_root = os.path.abspath(os.path.join(os.getcwd()))\n",
        "  if project_root not in sys.path:\n",
        "      sys.path.insert(0, project_root)\n",
        "else:\n",
        "  project_root = os.path.abspath(os.path.join(os.getcwd()))\n",
        "  if project_root not in sys.path:\n",
        "      sys.path.insert(0, project_root)"
      ]
    },
    {
      "cell_type": "code",
      "execution_count": 48,
      "metadata": {
        "colab": {
          "base_uri": "https://localhost:8080/"
        },
        "id": "KASpdCYzsrgj",
        "outputId": "17d5c8a9-879c-4ff5-982b-f8a12c1c141c"
      },
      "outputs": [
        {
          "name": "stdout",
          "output_type": "stream",
          "text": [
            "Using device: cuda\n",
            "Running in local environment (VS Code?). SCRIPT_DIR set to: /home/dino/Documents/ia/controllers/cnn, DATASET_PATH set to: /home/dino/Documents/ia/controllers/cnn/cnn_dataset.h5, BATCH_SIZE set to: 64\n"
          ]
        }
      ],
      "source": [
        "\n",
        "# matplotlib.use(\"notebook\")\n",
        "device = torch.device(\"cuda\" if torch.cuda.is_available() else \"cpu\")\n",
        "print(f\"Using device: {device}\")\n",
        "\n",
        "# --- Configuration ---_\n",
        "import sys\n",
        "\n",
        "# Check if running in Colab\n",
        "if 'google.colab' in sys.modules:\n",
        "    SCRIPT_DIR = Path(\"/content/drive/MyDrive/Colab Notebooks/cnn\")\n",
        "    DATASET_PATH = SCRIPT_DIR / 'merged_dataset.h5'\n",
        "    BATCH_SIZE = 256\n",
        "    print(f\"Running in Google Colab. SCRIPT_DIR set to: {SCRIPT_DIR}, DATASET_PATH set to: {DATASET_PATH}, BATCH_SIZE set to: {BATCH_SIZE}\")\n",
        "else:\n",
        "    SCRIPT_DIR = Path.cwd()\n",
        "    DATASET_PATH = SCRIPT_DIR / 'cnn_dataset.h5'\n",
        "    BATCH_SIZE = 64\n",
        "    print(f\"Running in local environment (VS Code?). SCRIPT_DIR set to: {SCRIPT_DIR}, DATASET_PATH set to: {DATASET_PATH}, BATCH_SIZE set to: {BATCH_SIZE}\")\n",
        "\n",
        "# Diretório para salvar os checkpoints\n",
        "CHECKPOINT_DIR = SCRIPT_DIR / 'checkpoints'\n",
        "PLOT_SAVE_PATH = SCRIPT_DIR / 'training_history.png'\n",
        "\n",
        "# Cria o diretório de checkpoints se ele não existir\n",
        "CHECKPOINT_DIR.mkdir(exist_ok=True)\n",
        "\n",
        "# Image dimensions\n",
        "IMG_HEIGHT = 40\n",
        "IMG_WIDTH = 200\n",
        "IMG_CHANNELS = 4  # BGRA from Webots\n",
        "\n",
        "# Training parameters\n",
        "EPOCHS = 40\n",
        "LEARNING_RATE = 1e-4\n",
        "N_SPLITS = 5  # Número de folds para K-Fold\n",
        "\n",
        "DIST_SCALE = 3.14\n",
        "ANGLE_SCALE = np.pi\n",
        "LIDAR_MAX_VAL = 3.14"
      ]
    },
    {
      "cell_type": "code",
      "execution_count": 19,
      "metadata": {
        "colab": {
          "background_save": true,
          "base_uri": "https://localhost:8080/"
        },
        "id": "9apfOc4YwoU_",
        "outputId": "67afa860-5f18-44d0-c2b0-359aabbe3e83"
      },
      "outputs": [
        {
          "name": "stdout",
          "output_type": "stream",
          "text": [
            "Usando dispositivo: cuda\n",
            "Treinamento com Precisão Mista (AMP): Ativado\n",
            "Epoch [1/50], Loss Treino: 1.2230, Loss Validação: 1.1016\n"
          ]
        },
        {
          "ename": "KeyboardInterrupt",
          "evalue": "",
          "output_type": "error",
          "traceback": [
            "\u001b[31m---------------------------------------------------------------------------\u001b[39m",
            "\u001b[31mKeyboardInterrupt\u001b[39m                         Traceback (most recent call last)",
            "\u001b[36mCell\u001b[39m\u001b[36m \u001b[39m\u001b[32mIn[19]\u001b[39m\u001b[32m, line 70\u001b[39m\n\u001b[32m     67\u001b[39m     loss = criterion(outputs, labels)\n\u001b[32m     69\u001b[39m scaler.scale(loss).backward()\n\u001b[32m---> \u001b[39m\u001b[32m70\u001b[39m \u001b[43mscaler\u001b[49m\u001b[43m.\u001b[49m\u001b[43mstep\u001b[49m\u001b[43m(\u001b[49m\u001b[43moptimizer\u001b[49m\u001b[43m)\u001b[49m\n\u001b[32m     71\u001b[39m scaler.update()\n\u001b[32m     73\u001b[39m total_train_loss += loss.item()\n",
            "\u001b[36mFile \u001b[39m\u001b[32m~/Documents/ia/.venv/lib/python3.12/site-packages/torch/amp/grad_scaler.py:461\u001b[39m, in \u001b[36mGradScaler.step\u001b[39m\u001b[34m(self, optimizer, *args, **kwargs)\u001b[39m\n\u001b[32m    455\u001b[39m     \u001b[38;5;28mself\u001b[39m.unscale_(optimizer)\n\u001b[32m    457\u001b[39m \u001b[38;5;28;01massert\u001b[39;00m (\n\u001b[32m    458\u001b[39m     \u001b[38;5;28mlen\u001b[39m(optimizer_state[\u001b[33m\"\u001b[39m\u001b[33mfound_inf_per_device\u001b[39m\u001b[33m\"\u001b[39m]) > \u001b[32m0\u001b[39m\n\u001b[32m    459\u001b[39m ), \u001b[33m\"\u001b[39m\u001b[33mNo inf checks were recorded for this optimizer.\u001b[39m\u001b[33m\"\u001b[39m\n\u001b[32m--> \u001b[39m\u001b[32m461\u001b[39m retval = \u001b[38;5;28;43mself\u001b[39;49m\u001b[43m.\u001b[49m\u001b[43m_maybe_opt_step\u001b[49m\u001b[43m(\u001b[49m\u001b[43moptimizer\u001b[49m\u001b[43m,\u001b[49m\u001b[43m \u001b[49m\u001b[43moptimizer_state\u001b[49m\u001b[43m,\u001b[49m\u001b[43m \u001b[49m\u001b[43m*\u001b[49m\u001b[43margs\u001b[49m\u001b[43m,\u001b[49m\u001b[43m \u001b[49m\u001b[43m*\u001b[49m\u001b[43m*\u001b[49m\u001b[43mkwargs\u001b[49m\u001b[43m)\u001b[49m\n\u001b[32m    463\u001b[39m optimizer_state[\u001b[33m\"\u001b[39m\u001b[33mstage\u001b[39m\u001b[33m\"\u001b[39m] = OptState.STEPPED\n\u001b[32m    465\u001b[39m \u001b[38;5;28;01mreturn\u001b[39;00m retval\n",
            "\u001b[36mFile \u001b[39m\u001b[32m~/Documents/ia/.venv/lib/python3.12/site-packages/torch/amp/grad_scaler.py:355\u001b[39m, in \u001b[36mGradScaler._maybe_opt_step\u001b[39m\u001b[34m(self, optimizer, optimizer_state, *args, **kwargs)\u001b[39m\n\u001b[32m    347\u001b[39m \u001b[38;5;28;01mdef\u001b[39;00m\u001b[38;5;250m \u001b[39m\u001b[34m_maybe_opt_step\u001b[39m(\n\u001b[32m    348\u001b[39m     \u001b[38;5;28mself\u001b[39m,\n\u001b[32m    349\u001b[39m     optimizer: torch.optim.Optimizer,\n\u001b[32m   (...)\u001b[39m\u001b[32m    352\u001b[39m     **kwargs: Any,\n\u001b[32m    353\u001b[39m ) -> Optional[\u001b[38;5;28mfloat\u001b[39m]:\n\u001b[32m    354\u001b[39m     retval: Optional[\u001b[38;5;28mfloat\u001b[39m] = \u001b[38;5;28;01mNone\u001b[39;00m\n\u001b[32m--> \u001b[39m\u001b[32m355\u001b[39m     \u001b[38;5;28;01mif\u001b[39;00m \u001b[38;5;129;01mnot\u001b[39;00m \u001b[38;5;28;43msum\u001b[39;49m\u001b[43m(\u001b[49m\u001b[43mv\u001b[49m\u001b[43m.\u001b[49m\u001b[43mitem\u001b[49m\u001b[43m(\u001b[49m\u001b[43m)\u001b[49m\u001b[43m \u001b[49m\u001b[38;5;28;43;01mfor\u001b[39;49;00m\u001b[43m \u001b[49m\u001b[43mv\u001b[49m\u001b[43m \u001b[49m\u001b[38;5;129;43;01min\u001b[39;49;00m\u001b[43m \u001b[49m\u001b[43moptimizer_state\u001b[49m\u001b[43m[\u001b[49m\u001b[33;43m\"\u001b[39;49m\u001b[33;43mfound_inf_per_device\u001b[39;49m\u001b[33;43m\"\u001b[39;49m\u001b[43m]\u001b[49m\u001b[43m.\u001b[49m\u001b[43mvalues\u001b[49m\u001b[43m(\u001b[49m\u001b[43m)\u001b[49m\u001b[43m)\u001b[49m:\n\u001b[32m    356\u001b[39m         retval = optimizer.step(*args, **kwargs)\n\u001b[32m    357\u001b[39m     \u001b[38;5;28;01mreturn\u001b[39;00m retval\n",
            "\u001b[36mFile \u001b[39m\u001b[32m~/Documents/ia/.venv/lib/python3.12/site-packages/torch/amp/grad_scaler.py:355\u001b[39m, in \u001b[36m<genexpr>\u001b[39m\u001b[34m(.0)\u001b[39m\n\u001b[32m    347\u001b[39m \u001b[38;5;28;01mdef\u001b[39;00m\u001b[38;5;250m \u001b[39m\u001b[34m_maybe_opt_step\u001b[39m(\n\u001b[32m    348\u001b[39m     \u001b[38;5;28mself\u001b[39m,\n\u001b[32m    349\u001b[39m     optimizer: torch.optim.Optimizer,\n\u001b[32m   (...)\u001b[39m\u001b[32m    352\u001b[39m     **kwargs: Any,\n\u001b[32m    353\u001b[39m ) -> Optional[\u001b[38;5;28mfloat\u001b[39m]:\n\u001b[32m    354\u001b[39m     retval: Optional[\u001b[38;5;28mfloat\u001b[39m] = \u001b[38;5;28;01mNone\u001b[39;00m\n\u001b[32m--> \u001b[39m\u001b[32m355\u001b[39m     \u001b[38;5;28;01mif\u001b[39;00m \u001b[38;5;129;01mnot\u001b[39;00m \u001b[38;5;28msum\u001b[39m(\u001b[43mv\u001b[49m\u001b[43m.\u001b[49m\u001b[43mitem\u001b[49m\u001b[43m(\u001b[49m\u001b[43m)\u001b[49m \u001b[38;5;28;01mfor\u001b[39;00m v \u001b[38;5;129;01min\u001b[39;00m optimizer_state[\u001b[33m\"\u001b[39m\u001b[33mfound_inf_per_device\u001b[39m\u001b[33m\"\u001b[39m].values()):\n\u001b[32m    356\u001b[39m         retval = optimizer.step(*args, **kwargs)\n\u001b[32m    357\u001b[39m     \u001b[38;5;28;01mreturn\u001b[39;00m retval\n",
            "\u001b[31mKeyboardInterrupt\u001b[39m: "
          ]
        }
      ],
      "source": [
        "\n",
        "import torch\n",
        "import torch.nn as nn\n",
        "import torch.optim as optim\n",
        "from torch.amp.autocast_mode import autocast\n",
        "from torch.amp.grad_scaler import GradScaler\n",
        "from torch.utils.data import Dataset, DataLoader\n",
        "from torchvision.models import mobilenet_v3_small, MobileNet_V3_Small_Weights\n",
        "\n",
        "\n",
        "class DummyObstacleDataset(Dataset):\n",
        "    def __init__(self, num_samples=1000, lidar_points=360, transform=None):\n",
        "        self.num_samples = num_samples\n",
        "        self.lidar_points = lidar_points\n",
        "        self.transform = transform\n",
        "\n",
        "    def __len__(self):\n",
        "        return self.num_samples\n",
        "\n",
        "    def __getitem__(self, idx):\n",
        "        image = torch.randn(3, 224, 224)\n",
        "        lidar = torch.randn(self.lidar_points)\n",
        "        labels = torch.randn(2)\n",
        "\n",
        "        if self.transform:\n",
        "            pass\n",
        "\n",
        "        return image, lidar, labels\n",
        "\n",
        "if __name__ == '__main__':\n",
        "    DEVICE = \"cuda\" if torch.cuda.is_available() else \"cpu\"\n",
        "    LEARNING_RATE = 1e-4\n",
        "    BATCH_SIZE = 32\n",
        "    NUM_EPOCHS = 50\n",
        "    LIDAR_POINTS = 20\n",
        "\n",
        "    use_amp = DEVICE == 'cuda'\n",
        "    print(f\"Usando dispositivo: {DEVICE}\")\n",
        "    print(f\"Treinamento com Precisão Mista (AMP): {'Ativado' if use_amp else 'Desativado'}\")\n",
        "\n",
        "    model = LidarVisionFusionNet(lidar_input_features=LIDAR_POINTS).to(DEVICE)\n",
        "    criterion = nn.MSELoss()\n",
        "    optimizer = optim.AdamW(model.parameters(), lr=LEARNING_RATE, weight_decay=1e-4)\n",
        "    scheduler = optim.lr_scheduler.ReduceLROnPlateau(optimizer, 'min', factor=0.1, patience=5)\n",
        "\n",
        "    scaler = GradScaler(\"cuda\",enabled=use_amp)\n",
        "\n",
        "    data_transform = model.vision_transforms\n",
        "\n",
        "    train_dataset = DummyObstacleDataset(num_samples=1000, lidar_points=LIDAR_POINTS, transform=data_transform)\n",
        "    val_dataset = DummyObstacleDataset(num_samples=200, lidar_points=LIDAR_POINTS, transform=data_transform)\n",
        "\n",
        "    train_loader = DataLoader(train_dataset, batch_size=BATCH_SIZE, shuffle=True)\n",
        "    val_loader = DataLoader(val_dataset, batch_size=BATCH_SIZE, shuffle=False)\n",
        "\n",
        "    for epoch in range(NUM_EPOCHS):\n",
        "        model.train()\n",
        "        total_train_loss = 0\n",
        "\n",
        "        for images, lidars, labels in train_loader:\n",
        "            images = images.to(DEVICE)\n",
        "            lidars = lidars.to(DEVICE)\n",
        "            labels = labels.to(DEVICE)\n",
        "\n",
        "            optimizer.zero_grad()\n",
        "\n",
        "            with autocast(\"cuda\",enabled=use_amp):\n",
        "                outputs = model(images, lidars)\n",
        "                loss = criterion(outputs, labels)\n",
        "\n",
        "            scaler.scale(loss).backward()\n",
        "            scaler.step(optimizer)\n",
        "            scaler.update()\n",
        "\n",
        "            total_train_loss += loss.item()\n",
        "\n",
        "        avg_train_loss = total_train_loss / len(train_loader)\n",
        "\n",
        "        model.eval()\n",
        "        total_val_loss = 0\n",
        "        with torch.no_grad():\n",
        "            for images, lidars, labels in val_loader:\n",
        "                images = images.to(DEVICE)\n",
        "                lidars = lidars.to(DEVICE)\n",
        "                labels = labels.to(DEVICE)\n",
        "\n",
        "                with autocast(\"cuda\",enabled=use_amp):\n",
        "                    outputs = model(images, lidars)\n",
        "                    loss = criterion(outputs, labels)\n",
        "                total_val_loss += loss.item()\n",
        "\n",
        "        avg_val_loss = total_val_loss / len(val_loader)\n",
        "\n",
        "        print(f\"Epoch [{epoch+1}/{NUM_EPOCHS}], Loss Treino: {avg_train_loss:.4f}, Loss Validação: {avg_val_loss:.4f}\")\n",
        "\n",
        "        scheduler.step(avg_val_loss)"
      ]
    },
    {
      "cell_type": "code",
      "execution_count": 9,
      "metadata": {
        "id": "VEjVTi82hQ5U"
      },
      "outputs": [],
      "source": [
        "def load_data(path: Path, max_samples=None):\n",
        "    \"\"\"\n",
        "    Carrega o dataset de um único arquivo HDF5.\n",
        "    \"\"\"\n",
        "    if not path.exists() or not path.is_file():\n",
        "        print(f\"Error: HDF5 file not found at '{path}'\")\n",
        "        raise FileNotFoundError\n",
        "\n",
        "    with h5py.File(path, 'r') as hf:\n",
        "        if 'camera_image' not in hf:\n",
        "            print(f\"Error: 'camera_image' dataset not found in '{path}'\")\n",
        "            raise ValueError\n",
        "\n",
        "        print(f\"Loading samples from '{path}'...\")\n",
        "        X_cam = np.array(hf['camera_image'], dtype=np.float32)\n",
        "        X_lidar = np.array(hf['lidar_data'], dtype=np.float32)\n",
        "        dist = np.array(hf['dist'], dtype=np.float32)\n",
        "        angle = np.array(hf['angle'], dtype=np.float32)\n",
        "        y = np.stack((dist, angle), axis=1)\n",
        "\n",
        "        if max_samples:\n",
        "            X_cam = X_cam[:max_samples]\n",
        "            X_lidar = X_lidar[:max_samples]\n",
        "            y = y[:max_samples]\n",
        "\n",
        "    # Normaliza imagens\n",
        "    X_cam /= 255.0\n",
        "\n",
        "\n",
        "    X_lidar[np.isinf(X_lidar)] = LIDAR_MAX_VAL\n",
        "    X_lidar /= LIDAR_MAX_VAL\n",
        "\n",
        "    # --- NORMALIZE TARGETS (y) ---_\n",
        "    y[:, 0] /= DIST_SCALE  # Normalize distance\n",
        "    y[:, 1] /= ANGLE_SCALE   # Normalize angle\n",
        "    y = np.clip(y, -1.0, 1.0)\n",
        "\n",
        "    # Permuta os eixos da imagem para o formato do PyTorch (N, C, H, W)\n",
        "    X_cam = np.transpose(X_cam, (0, 3, 1, 2))\n",
        "\n",
        "    return (X_cam, X_lidar), y"
      ]
    },
    {
      "cell_type": "code",
      "execution_count": 11,
      "metadata": {
        "id": "rww9sNFkhQ5S"
      },
      "outputs": [],
      "source": [
        "# @title CNNNavigationModel\n",
        "class CNNNavigationModel(nn.Module):\n",
        "    \"\"\"\n",
        "    Define a arquitetura de um modelo CNN robusto para navegação usando dados de câmera e LiDAR.\n",
        "\n",
        "    Este modelo aprimorado calcula dinamicamente o tamanho da entrada para as camadas\n",
        "    totalmente conectadas, tornando-o robusto a mudanças nas dimensões da imagem de entrada\n",
        "    ou na arquitetura da CNN. Ele também refatora a ramificação da câmera para maior clareza\n",
        "    e inclui inicialização de pesos Kaiming.\n",
        "    \"\"\"\n",
        "    def __init__(self, lidar_shape_in, img_shape=(IMG_CHANNELS, IMG_HEIGHT, IMG_WIDTH)):\n",
        "        \"\"\"\n",
        "        Inicializa o modelo CNN.\n",
        "\n",
        "        Args:\n",
        "            lidar_shape_in (int): O número de características de entrada para a ramificação LiDAR.\n",
        "            img_shape (tuple): A forma da imagem de entrada (C, H, W).\n",
        "        \"\"\"\n",
        "        super(CNNNavigationModel, self).__init__()\n",
        "\n",
        "        # --- Ramificação da Câmera ---_\n",
        "        # Definimos a parte convolucional primeiro para calcular dinamicamente seu tamanho de saída.\n",
        "        camera_conv_layers = nn.Sequential(\n",
        "            nn.Conv2d(in_channels=img_shape[0], out_channels=32, kernel_size=5),\n",
        "            nn.ReLU(),\n",
        "            nn.MaxPool2d(kernel_size=2, stride=2),\n",
        "            nn.Conv2d(in_channels=32, out_channels=64, kernel_size=3),\n",
        "            nn.ReLU(),\n",
        "            nn.MaxPool2d(kernel_size=2, stride=2),\n",
        "            nn.Flatten(),\n",
        "        )\n",
        "\n",
        "        # **MELHORIA 1: Cálculo dinâmico do tamanho das características**\n",
        "        # Criamos um tensor \"dummy\" e o passamos pelas camadas convolucionais para descobrir o tamanho achatado.\n",
        "        with torch.no_grad():\n",
        "            dummy_input = torch.zeros(1, *img_shape)\n",
        "            flattened_cam_size = camera_conv_layers(dummy_input).shape[1]\n",
        "\n",
        "\n",
        "        # **MELHORIA 2: Clareza arquitetural**\n",
        "        # Combinamos todo o pipeline de processamento da câmera em um único módulo sequencial.\n",
        "        self.camera_branch = nn.Sequential(\n",
        "            camera_conv_layers,\n",
        "            nn.Linear(flattened_cam_size, 64),\n",
        "            nn.ReLU()\n",
        "        )\n",
        "\n",
        "        # --- Ramificação do LiDAR ---_\n",
        "        self.lidar_branch = nn.Sequential(\n",
        "            nn.Linear(lidar_shape_in, 128),\n",
        "            nn.ReLU(),\n",
        "            nn.Dropout(0.2),\n",
        "            nn.Linear(128, 64),\n",
        "            nn.ReLU()\n",
        "        )\n",
        "\n",
        "        # --- Cabeça Combinada ---_\n",
        "        # Esta parte permanece conceitualmente a mesma.\n",
        "        self.combined_head = nn.Sequential(\n",
        "            nn.Linear(64 + 64, 128),  # 64 da câmera + 64 do LiDAR\n",
        "            nn.ReLU(),\n",
        "            nn.Dropout(0.3),\n",
        "            nn.Linear(128, 64),\n",
        "            nn.ReLU(),\n",
        "            nn.Linear(64, 2),  # Saída de 2 valores (dist, angulo)\n",
        "            nn.Tanh()          # Escala a saída para [-1, 1] para alvos normalizados\n",
        "        )\n",
        "\n",
        "        # **MELHORIA 3: Inicialização de Pesos**\n",
        "        self.apply(self._init_weights)\n",
        "\n",
        "    def _init_weights(self, module):\n",
        "        \"\"\"\n",
        "        Aplica a inicialização Kaiming He às camadas Conv2d e Linear.\n",
        "        \"\"\"\n",
        "        if isinstance(module, (nn.Conv2d, nn.Linear)):\n",
        "            nn.init.kaiming_normal_(module.weight, mode='fan_in', nonlinearity='relu')\n",
        "            if module.bias is not None:\n",
        "                nn.init.constant_(module.bias, 0)\n",
        "\n",
        "    def forward(self, cam_input, lidar_input):\n",
        "        \"\"\"\n",
        "        Define a passagem para a frente (forward pass) do modelo.\n",
        "\n",
        "        Args:\n",
        "            cam_input (torch.Tensor): O tensor de entrada da câmera.\n",
        "                                      Forma: (N, C, H, W)\n",
        "            lidar_input (torch.Tensor): O tensor de entrada do LiDAR.\n",
        "                                        Forma: (N, lidar_shape_in)\n",
        "\n",
        "        Returns:\n",
        "            torch.Tensor: O tensor de saída do modelo. Forma: (N, 2)\n",
        "        \"\"\"\n",
        "        cam_features = self.camera_branch(cam_input)\n",
        "        lidar_features = self.lidar_branch(lidar_input)\n",
        "        combined_features = torch.cat((cam_features, lidar_features), dim=1)\n",
        "        output = self.combined_head(combined_features)\n",
        "        return output"
      ]
    },
    {
      "cell_type": "code",
      "execution_count": null,
      "metadata": {
        "cellView": "form",
        "id": "jKRYIxevhQ5V"
      },
      "outputs": [],
      "source": [
        "# @title plot\n",
        "\n",
        "def plot_history(history):\n",
        "    \"\"\"Plota o histórico de treinamento e validação e salva em um arquivo.\"\"\"\n",
        "    fig, (ax1, ax2) = plt.subplots(1, 2, figsize=(15, 5))\n",
        "    ax1.plot(history['loss'], label='Training Loss')\n",
        "    ax1.plot(history['val_loss'], label='Validation Loss')\n",
        "    ax1.set_title('Model Loss')\n",
        "    ax1.set_ylabel('Loss (MSE)')\n",
        "    ax1.set_xlabel('Epoch')\n",
        "    ax1.legend()\n",
        "    ax2.plot(history['mae'], label='Training MAE')\n",
        "    ax2.plot(history['val_mae'], label='Validation MAE')\n",
        "    ax2.set_title('Model MAE')\n",
        "    ax2.set_ylabel('MAE')\n",
        "    ax2.set_xlabel('Epoch')\n",
        "    ax2.legend()\n",
        "    plt.tight_layout()\n",
        "    plt.savefig(PLOT_SAVE_PATH)  # Salva a figura em um arquivo\n",
        "    plt.close(fig)  # Fecha a figura para liberar memória\n",
        "    print(f\"Training plot saved to '{PLOT_SAVE_PATH}'\")\n",
        "    plt.close(fig)  # Fecha a figura para liberar memória"
      ]
    },
    {
      "cell_type": "code",
      "execution_count": null,
      "metadata": {
        "colab": {
          "base_uri": "https://localhost:8080/"
        },
        "id": "_TyxEQvYhQ5X",
        "outputId": "71d639c5-4001-45b1-d9e5-74ca1fa00ea9"
      },
      "outputs": [
        {
          "name": "stdout",
          "output_type": "stream",
          "text": [
            "Loading samples from '/content/drive/MyDrive/Colab Notebooks/cnn/merged_dataset.h5'...\n"
          ]
        }
      ],
      "source": [
        "(X_cam, X_lidar), y = load_data(DATASET_PATH)"
      ]
    },
    {
      "cell_type": "code",
      "execution_count": null,
      "metadata": {
        "colab": {
          "base_uri": "https://localhost:8080/"
        },
        "id": "nAH7QmQvhQ5Y",
        "outputId": "30e40f85-963a-4cf9-b525-47d7721962dd"
      },
      "outputs": [
        {
          "name": "stdout",
          "output_type": "stream",
          "text": [
            "Loading samples from '/content/drive/MyDrive/Colab Notebooks/cnn/test.h5'...\n"
          ]
        }
      ],
      "source": [
        "(X_cam_test, X_lidar_test), y_test = load_data(SCRIPT_DIR / \"test.h5\")  # /home/dino/Documents/ia/controllers/cnn/test.h5"
      ]
    },
    {
      "cell_type": "code",
      "execution_count": null,
      "metadata": {
        "colab": {
          "base_uri": "https://localhost:8080/"
        },
        "id": "CB3VaGuhvLvs",
        "outputId": "dfd93d68-ca4f-4ce3-ca03-7d763b589180"
      },
      "outputs": [
        {
          "name": "stdout",
          "output_type": "stream",
          "text": [
            "Cleaning directory: /content/drive/MyDrive/Colab Notebooks/cnn/checkpoints\n",
            "Cleaning complete.\n"
          ]
        }
      ],
      "source": [
        "# prompt: /content/drive/MyDrive/Colab Notebooks/cnn/checkpoints\n",
        "# I want to delete all files in this folder\n",
        "if False:\n",
        "    import shutil\n",
        "\n",
        "    # Define the directory to clean\n",
        "    directory_to_clean = SCRIPT_DIR / 'checkpoints'\n",
        "\n",
        "    # Check if the directory exists\n",
        "    if directory_to_clean.exists() and directory_to_clean.is_dir():\n",
        "        print(f\"Cleaning directory: {directory_to_clean}\")\n",
        "        # Remove all files and subdirectories within the directory\n",
        "        for item in directory_to_clean.iterdir():\n",
        "            if item.is_file():\n",
        "                item.unlink()  # Delete the file\n",
        "                print(f\"Deleted file: {item}\")\n",
        "            elif item.is_dir():\n",
        "                shutil.rmtree(item) # Delete the subdirectory and its contents\n",
        "                print(f\"Deleted directory: {item}\")\n",
        "        print(\"Cleaning complete.\")\n",
        "    else:\n",
        "        print(f\"Directory not found or is not a directory: {directory_to_clean}\")"
      ]
    },
    {
      "cell_type": "code",
      "execution_count": null,
      "metadata": {
        "colab": {
          "base_uri": "https://localhost:8080/"
        },
        "id": "AOlvHn16hQ5a",
        "outputId": "43fe2b7b-8302-4f76-8eb5-bd8082924c3e"
      },
      "outputs": [
        {
          "name": "stdout",
          "output_type": "stream",
          "text": [
            "Data loaded. Shapes: Cam=(5891, 4, 40, 200), Lidar=(5891, 20), Target=(5891, 2)\n",
            "\n",
            "--- Starting Fold 1/5 ---\n",
            "Tamanho da característica da câmera achatada calculado dinamicamente: 24576\n",
            "No checkpoint found for fold 1. Starting from scratch.\n",
            "\n",
            "--- Starting Model Training for Fold 1 from Epoch 1 ---\n"
          ]
        },
        {
          "name": "stderr",
          "output_type": "stream",
          "text": []
        },
        {
          "name": "stdout",
          "output_type": "stream",
          "text": [
            "Fold 1/5 Epoch 1/40 - Loss: 0.3279, MAE: 0.4756 - Val Loss: 0.0599, Val MAE: 0.1905\n",
            "  -> New best validation loss: 0.0599. Saving checkpoint...\n"
          ]
        },
        {
          "name": "stderr",
          "output_type": "stream",
          "text": []
        },
        {
          "name": "stdout",
          "output_type": "stream",
          "text": [
            "Fold 1/5 Epoch 2/40 - Loss: 0.1639, MAE: 0.3297 - Val Loss: 0.0625, Val MAE: 0.2031\n",
            "  -> Validation loss did not improve by at least 0.002. Epochs without improvement: 1\n"
          ]
        },
        {
          "name": "stderr",
          "output_type": "stream",
          "text": []
        },
        {
          "name": "stdout",
          "output_type": "stream",
          "text": [
            "Fold 1/5 Epoch 3/40 - Loss: 0.1230, MAE: 0.2832 - Val Loss: 0.0263, Val MAE: 0.1202\n",
            "  -> New best validation loss: 0.0263. Saving checkpoint...\n"
          ]
        },
        {
          "name": "stderr",
          "output_type": "stream",
          "text": []
        },
        {
          "name": "stdout",
          "output_type": "stream",
          "text": [
            "Fold 1/5 Epoch 4/40 - Loss: 0.0989, MAE: 0.2513 - Val Loss: 0.0297, Val MAE: 0.1356\n",
            "  -> Validation loss did not improve by at least 0.002. Epochs without improvement: 1\n"
          ]
        },
        {
          "name": "stderr",
          "output_type": "stream",
          "text": []
        },
        {
          "name": "stdout",
          "output_type": "stream",
          "text": [
            "Fold 1/5 Epoch 5/40 - Loss: 0.0793, MAE: 0.2225 - Val Loss: 0.0195, Val MAE: 0.0997\n",
            "  -> New best validation loss: 0.0195. Saving checkpoint...\n"
          ]
        },
        {
          "name": "stderr",
          "output_type": "stream",
          "text": []
        },
        {
          "name": "stdout",
          "output_type": "stream",
          "text": [
            "Fold 1/5 Epoch 6/40 - Loss: 0.0676, MAE: 0.2044 - Val Loss: 0.0174, Val MAE: 0.0945\n",
            "  -> New best validation loss: 0.0174. Saving checkpoint...\n"
          ]
        },
        {
          "name": "stderr",
          "output_type": "stream",
          "text": []
        },
        {
          "name": "stdout",
          "output_type": "stream",
          "text": [
            "Fold 1/5 Epoch 7/40 - Loss: 0.0570, MAE: 0.1869 - Val Loss: 0.0151, Val MAE: 0.0845\n",
            "  -> New best validation loss: 0.0151. Saving checkpoint...\n"
          ]
        },
        {
          "name": "stderr",
          "output_type": "stream",
          "text": []
        },
        {
          "name": "stdout",
          "output_type": "stream",
          "text": [
            "Fold 1/5 Epoch 8/40 - Loss: 0.0494, MAE: 0.1724 - Val Loss: 0.0134, Val MAE: 0.0770\n",
            "  -> Validation loss did not improve by at least 0.002. Epochs without improvement: 1\n"
          ]
        },
        {
          "name": "stderr",
          "output_type": "stream",
          "text": []
        },
        {
          "name": "stdout",
          "output_type": "stream",
          "text": [
            "Fold 1/5 Epoch 9/40 - Loss: 0.0438, MAE: 0.1618 - Val Loss: 0.0180, Val MAE: 0.1006\n",
            "  -> Validation loss did not improve by at least 0.002. Epochs without improvement: 2\n"
          ]
        },
        {
          "name": "stderr",
          "output_type": "stream",
          "text": []
        },
        {
          "name": "stdout",
          "output_type": "stream",
          "text": [
            "Fold 1/5 Epoch 10/40 - Loss: 0.0406, MAE: 0.1556 - Val Loss: 0.0141, Val MAE: 0.0776\n",
            "  -> Validation loss did not improve by at least 0.002. Epochs without improvement: 3\n"
          ]
        },
        {
          "name": "stderr",
          "output_type": "stream",
          "text": []
        },
        {
          "name": "stdout",
          "output_type": "stream",
          "text": [
            "Fold 1/5 Epoch 11/40 - Loss: 0.0356, MAE: 0.1457 - Val Loss: 0.0109, Val MAE: 0.0664\n",
            "  -> New best validation loss: 0.0109. Saving checkpoint...\n"
          ]
        },
        {
          "name": "stderr",
          "output_type": "stream",
          "text": []
        },
        {
          "name": "stdout",
          "output_type": "stream",
          "text": [
            "Fold 1/5 Epoch 12/40 - Loss: 0.0328, MAE: 0.1392 - Val Loss: 0.0117, Val MAE: 0.0677\n",
            "  -> Validation loss did not improve by at least 0.002. Epochs without improvement: 1\n"
          ]
        },
        {
          "name": "stderr",
          "output_type": "stream",
          "text": []
        },
        {
          "name": "stdout",
          "output_type": "stream",
          "text": [
            "Fold 1/5 Epoch 13/40 - Loss: 0.0309, MAE: 0.1347 - Val Loss: 0.0094, Val MAE: 0.0613\n",
            "  -> Validation loss did not improve by at least 0.002. Epochs without improvement: 2\n"
          ]
        },
        {
          "name": "stderr",
          "output_type": "stream",
          "text": []
        },
        {
          "name": "stdout",
          "output_type": "stream",
          "text": [
            "Fold 1/5 Epoch 14/40 - Loss: 0.0275, MAE: 0.1269 - Val Loss: 0.0089, Val MAE: 0.0606\n",
            "  -> New best validation loss: 0.0089. Saving checkpoint...\n"
          ]
        },
        {
          "name": "stderr",
          "output_type": "stream",
          "text": []
        },
        {
          "name": "stdout",
          "output_type": "stream",
          "text": [
            "Fold 1/5 Epoch 15/40 - Loss: 0.0265, MAE: 0.1238 - Val Loss: 0.0096, Val MAE: 0.0619\n",
            "  -> Validation loss did not improve by at least 0.002. Epochs without improvement: 1\n"
          ]
        },
        {
          "name": "stderr",
          "output_type": "stream",
          "text": []
        },
        {
          "name": "stdout",
          "output_type": "stream",
          "text": [
            "Fold 1/5 Epoch 16/40 - Loss: 0.0251, MAE: 0.1203 - Val Loss: 0.0089, Val MAE: 0.0641\n",
            "  -> Validation loss did not improve by at least 0.002. Epochs without improvement: 2\n"
          ]
        },
        {
          "name": "stderr",
          "output_type": "stream",
          "text": []
        },
        {
          "name": "stdout",
          "output_type": "stream",
          "text": [
            "Fold 1/5 Epoch 17/40 - Loss: 0.0236, MAE: 0.1164 - Val Loss: 0.0086, Val MAE: 0.0612\n",
            "  -> Validation loss did not improve by at least 0.002. Epochs without improvement: 3\n"
          ]
        },
        {
          "name": "stderr",
          "output_type": "stream",
          "text": []
        },
        {
          "name": "stdout",
          "output_type": "stream",
          "text": [
            "Fold 1/5 Epoch 18/40 - Loss: 0.0219, MAE: 0.1121 - Val Loss: 0.0095, Val MAE: 0.0674\n",
            "  -> Validation loss did not improve by at least 0.002. Epochs without improvement: 4\n"
          ]
        },
        {
          "name": "stderr",
          "output_type": "stream",
          "text": []
        },
        {
          "name": "stdout",
          "output_type": "stream",
          "text": [
            "Fold 1/5 Epoch 19/40 - Loss: 0.0215, MAE: 0.1108 - Val Loss: 0.0086, Val MAE: 0.0610\n",
            "  -> Validation loss did not improve by at least 0.002. Epochs without improvement: 5\n"
          ]
        },
        {
          "name": "stderr",
          "output_type": "stream",
          "text": []
        },
        {
          "name": "stdout",
          "output_type": "stream",
          "text": [
            "Fold 1/5 Epoch 20/40 - Loss: 0.0202, MAE: 0.1083 - Val Loss: 0.0087, Val MAE: 0.0619\n",
            "  -> Validation loss did not improve by at least 0.002. Epochs without improvement: 6\n"
          ]
        },
        {
          "name": "stderr",
          "output_type": "stream",
          "text": []
        },
        {
          "name": "stdout",
          "output_type": "stream",
          "text": [
            "Fold 1/5 Epoch 21/40 - Loss: 0.0197, MAE: 0.1055 - Val Loss: 0.0081, Val MAE: 0.0604\n",
            "  -> Validation loss did not improve by at least 0.002. Epochs without improvement: 7\n"
          ]
        },
        {
          "name": "stderr",
          "output_type": "stream",
          "text": []
        },
        {
          "name": "stdout",
          "output_type": "stream",
          "text": [
            "Fold 1/5 Epoch 22/40 - Loss: 0.0184, MAE: 0.1031 - Val Loss: 0.0074, Val MAE: 0.0561\n",
            "  -> Validation loss did not improve by at least 0.002. Epochs without improvement: 8\n"
          ]
        },
        {
          "name": "stderr",
          "output_type": "stream",
          "text": []
        },
        {
          "name": "stdout",
          "output_type": "stream",
          "text": [
            "Fold 1/5 Epoch 23/40 - Loss: 0.0179, MAE: 0.1017 - Val Loss: 0.0076, Val MAE: 0.0574\n",
            "  -> Validation loss did not improve by at least 0.002. Epochs without improvement: 9\n"
          ]
        },
        {
          "name": "stderr",
          "output_type": "stream",
          "text": []
        },
        {
          "name": "stdout",
          "output_type": "stream",
          "text": [
            "Fold 1/5 Epoch 24/40 - Loss: 0.0174, MAE: 0.0994 - Val Loss: 0.0075, Val MAE: 0.0560\n",
            "  -> Validation loss did not improve by at least 0.002. Epochs without improvement: 10\n"
          ]
        },
        {
          "name": "stderr",
          "output_type": "stream",
          "text": []
        },
        {
          "name": "stdout",
          "output_type": "stream",
          "text": [
            "Fold 1/5 Epoch 25/40 - Loss: 0.0163, MAE: 0.0961 - Val Loss: 0.0077, Val MAE: 0.0557\n",
            "  -> Validation loss did not improve by at least 0.002. Epochs without improvement: 11\n"
          ]
        },
        {
          "name": "stderr",
          "output_type": "stream",
          "text": []
        },
        {
          "name": "stdout",
          "output_type": "stream",
          "text": [
            "Fold 1/5 Epoch 26/40 - Loss: 0.0163, MAE: 0.0960 - Val Loss: 0.0082, Val MAE: 0.0580\n",
            "  -> Validation loss did not improve by at least 0.002. Epochs without improvement: 12\n"
          ]
        },
        {
          "name": "stderr",
          "output_type": "stream",
          "text": []
        },
        {
          "name": "stdout",
          "output_type": "stream",
          "text": [
            "Fold 1/5 Epoch 27/40 - Loss: 0.0157, MAE: 0.0944 - Val Loss: 0.0067, Val MAE: 0.0521\n",
            "  -> New best validation loss: 0.0067. Saving checkpoint...\n"
          ]
        },
        {
          "name": "stderr",
          "output_type": "stream",
          "text": []
        },
        {
          "name": "stdout",
          "output_type": "stream",
          "text": [
            "Fold 1/5 Epoch 28/40 - Loss: 0.0155, MAE: 0.0929 - Val Loss: 0.0069, Val MAE: 0.0533\n",
            "  -> Validation loss did not improve by at least 0.002. Epochs without improvement: 1\n"
          ]
        },
        {
          "name": "stderr",
          "output_type": "stream",
          "text": []
        },
        {
          "name": "stdout",
          "output_type": "stream",
          "text": [
            "Fold 1/5 Epoch 29/40 - Loss: 0.0145, MAE: 0.0905 - Val Loss: 0.0069, Val MAE: 0.0512\n",
            "  -> Validation loss did not improve by at least 0.002. Epochs without improvement: 2\n"
          ]
        },
        {
          "name": "stderr",
          "output_type": "stream",
          "text": []
        },
        {
          "name": "stdout",
          "output_type": "stream",
          "text": [
            "Fold 1/5 Epoch 30/40 - Loss: 0.0142, MAE: 0.0890 - Val Loss: 0.0067, Val MAE: 0.0517\n",
            "  -> Validation loss did not improve by at least 0.002. Epochs without improvement: 3\n"
          ]
        },
        {
          "name": "stderr",
          "output_type": "stream",
          "text": []
        },
        {
          "name": "stdout",
          "output_type": "stream",
          "text": [
            "Fold 1/5 Epoch 31/40 - Loss: 0.0136, MAE: 0.0872 - Val Loss: 0.0068, Val MAE: 0.0525\n",
            "  -> Validation loss did not improve by at least 0.002. Epochs without improvement: 4\n"
          ]
        },
        {
          "name": "stderr",
          "output_type": "stream",
          "text": []
        },
        {
          "name": "stdout",
          "output_type": "stream",
          "text": [
            "Fold 1/5 Epoch 32/40 - Loss: 0.0132, MAE: 0.0852 - Val Loss: 0.0066, Val MAE: 0.0497\n",
            "  -> Validation loss did not improve by at least 0.002. Epochs without improvement: 5\n"
          ]
        },
        {
          "name": "stderr",
          "output_type": "stream",
          "text": []
        },
        {
          "name": "stdout",
          "output_type": "stream",
          "text": [
            "Fold 1/5 Epoch 33/40 - Loss: 0.0130, MAE: 0.0844 - Val Loss: 0.0065, Val MAE: 0.0509\n",
            "  -> Validation loss did not improve by at least 0.002. Epochs without improvement: 6\n"
          ]
        },
        {
          "name": "stderr",
          "output_type": "stream",
          "text": []
        },
        {
          "name": "stdout",
          "output_type": "stream",
          "text": [
            "Fold 1/5 Epoch 34/40 - Loss: 0.0132, MAE: 0.0854 - Val Loss: 0.0062, Val MAE: 0.0488\n",
            "  -> Validation loss did not improve by at least 0.002. Epochs without improvement: 7\n"
          ]
        },
        {
          "name": "stderr",
          "output_type": "stream",
          "text": []
        },
        {
          "name": "stdout",
          "output_type": "stream",
          "text": [
            "Fold 1/5 Epoch 35/40 - Loss: 0.0135, MAE: 0.0862 - Val Loss: 0.0062, Val MAE: 0.0483\n",
            "  -> Validation loss did not improve by at least 0.002. Epochs without improvement: 8\n"
          ]
        },
        {
          "name": "stderr",
          "output_type": "stream",
          "text": []
        },
        {
          "name": "stdout",
          "output_type": "stream",
          "text": [
            "Fold 1/5 Epoch 36/40 - Loss: 0.0119, MAE: 0.0808 - Val Loss: 0.0060, Val MAE: 0.0478\n",
            "  -> Validation loss did not improve by at least 0.002. Epochs without improvement: 9\n"
          ]
        },
        {
          "name": "stderr",
          "output_type": "stream",
          "text": []
        },
        {
          "name": "stdout",
          "output_type": "stream",
          "text": [
            "Fold 1/5 Epoch 37/40 - Loss: 0.0116, MAE: 0.0794 - Val Loss: 0.0059, Val MAE: 0.0484\n",
            "  -> Validation loss did not improve by at least 0.002. Epochs without improvement: 10\n"
          ]
        },
        {
          "name": "stderr",
          "output_type": "stream",
          "text": []
        },
        {
          "name": "stdout",
          "output_type": "stream",
          "text": [
            "Fold 1/5 Epoch 38/40 - Loss: 0.0115, MAE: 0.0796 - Val Loss: 0.0060, Val MAE: 0.0468\n",
            "  -> Validation loss did not improve by at least 0.002. Epochs without improvement: 11\n"
          ]
        },
        {
          "name": "stderr",
          "output_type": "stream",
          "text": []
        },
        {
          "name": "stdout",
          "output_type": "stream",
          "text": [
            "Fold 1/5 Epoch 39/40 - Loss: 0.0113, MAE: 0.0785 - Val Loss: 0.0056, Val MAE: 0.0449\n",
            "  -> Validation loss did not improve by at least 0.002. Epochs without improvement: 12\n"
          ]
        },
        {
          "name": "stderr",
          "output_type": "stream",
          "text": []
        },
        {
          "name": "stdout",
          "output_type": "stream",
          "text": [
            "Fold 1/5 Epoch 40/40 - Loss: 0.0112, MAE: 0.0787 - Val Loss: 0.0063, Val MAE: 0.0521\n",
            "  -> Validation loss did not improve by at least 0.002. Epochs without improvement: 13\n",
            "\n",
            "--- Starting Fold 2/5 ---\n",
            "Tamanho da característica da câmera achatada calculado dinamicamente: 24576\n",
            "No checkpoint found for fold 2. Starting from scratch.\n",
            "\n",
            "--- Starting Model Training for Fold 2 from Epoch 1 ---\n"
          ]
        },
        {
          "name": "stderr",
          "output_type": "stream",
          "text": []
        },
        {
          "name": "stdout",
          "output_type": "stream",
          "text": [
            "Fold 2/5 Epoch 1/40 - Loss: 0.1856, MAE: 0.3490 - Val Loss: 0.0425, Val MAE: 0.1647\n",
            "  -> New best validation loss: 0.0425. Saving checkpoint...\n"
          ]
        },
        {
          "name": "stderr",
          "output_type": "stream",
          "text": []
        },
        {
          "name": "stdout",
          "output_type": "stream",
          "text": [
            "Fold 2/5 Epoch 2/40 - Loss: 0.1149, MAE: 0.2687 - Val Loss: 0.0308, Val MAE: 0.1334\n",
            "  -> New best validation loss: 0.0308. Saving checkpoint...\n"
          ]
        },
        {
          "name": "stderr",
          "output_type": "stream",
          "text": []
        },
        {
          "name": "stdout",
          "output_type": "stream",
          "text": [
            "Fold 2/5 Epoch 3/40 - Loss: 0.0837, MAE: 0.2264 - Val Loss: 0.0256, Val MAE: 0.1261\n",
            "  -> New best validation loss: 0.0256. Saving checkpoint...\n"
          ]
        },
        {
          "name": "stderr",
          "output_type": "stream",
          "text": []
        },
        {
          "name": "stdout",
          "output_type": "stream",
          "text": [
            "Fold 2/5 Epoch 4/40 - Loss: 0.0690, MAE: 0.2051 - Val Loss: 0.0254, Val MAE: 0.1237\n",
            "  -> Validation loss did not improve by at least 0.002. Epochs without improvement: 1\n"
          ]
        },
        {
          "name": "stderr",
          "output_type": "stream",
          "text": []
        },
        {
          "name": "stdout",
          "output_type": "stream",
          "text": [
            "Fold 2/5 Epoch 5/40 - Loss: 0.0553, MAE: 0.1819 - Val Loss: 0.0207, Val MAE: 0.1102\n",
            "  -> New best validation loss: 0.0207. Saving checkpoint...\n"
          ]
        },
        {
          "name": "stderr",
          "output_type": "stream",
          "text": []
        },
        {
          "name": "stdout",
          "output_type": "stream",
          "text": [
            "Fold 2/5 Epoch 6/40 - Loss: 0.0478, MAE: 0.1681 - Val Loss: 0.0168, Val MAE: 0.0957\n",
            "  -> New best validation loss: 0.0168. Saving checkpoint...\n"
          ]
        },
        {
          "name": "stderr",
          "output_type": "stream",
          "text": []
        },
        {
          "name": "stdout",
          "output_type": "stream",
          "text": [
            "Fold 2/5 Epoch 7/40 - Loss: 0.0423, MAE: 0.1579 - Val Loss: 0.0140, Val MAE: 0.0907\n",
            "  -> New best validation loss: 0.0140. Saving checkpoint...\n"
          ]
        },
        {
          "name": "stderr",
          "output_type": "stream",
          "text": []
        },
        {
          "name": "stdout",
          "output_type": "stream",
          "text": [
            "Fold 2/5 Epoch 8/40 - Loss: 0.0364, MAE: 0.1465 - Val Loss: 0.0113, Val MAE: 0.0762\n",
            "  -> New best validation loss: 0.0113. Saving checkpoint...\n"
          ]
        },
        {
          "name": "stderr",
          "output_type": "stream",
          "text": []
        },
        {
          "name": "stdout",
          "output_type": "stream",
          "text": [
            "Fold 2/5 Epoch 9/40 - Loss: 0.0326, MAE: 0.1370 - Val Loss: 0.0119, Val MAE: 0.0838\n",
            "  -> Validation loss did not improve by at least 0.002. Epochs without improvement: 1\n"
          ]
        },
        {
          "name": "stderr",
          "output_type": "stream",
          "text": []
        },
        {
          "name": "stdout",
          "output_type": "stream",
          "text": [
            "Fold 2/5 Epoch 10/40 - Loss: 0.0289, MAE: 0.1290 - Val Loss: 0.0101, Val MAE: 0.0718\n",
            "  -> Validation loss did not improve by at least 0.002. Epochs without improvement: 2\n"
          ]
        },
        {
          "name": "stderr",
          "output_type": "stream",
          "text": []
        },
        {
          "name": "stdout",
          "output_type": "stream",
          "text": [
            "Fold 2/5 Epoch 11/40 - Loss: 0.0268, MAE: 0.1238 - Val Loss: 0.0096, Val MAE: 0.0685\n",
            "  -> Validation loss did not improve by at least 0.002. Epochs without improvement: 3\n"
          ]
        },
        {
          "name": "stderr",
          "output_type": "stream",
          "text": []
        },
        {
          "name": "stdout",
          "output_type": "stream",
          "text": [
            "Fold 2/5 Epoch 12/40 - Loss: 0.0252, MAE: 0.1196 - Val Loss: 0.0090, Val MAE: 0.0664\n",
            "  -> New best validation loss: 0.0090. Saving checkpoint...\n"
          ]
        },
        {
          "name": "stderr",
          "output_type": "stream",
          "text": []
        },
        {
          "name": "stdout",
          "output_type": "stream",
          "text": [
            "Fold 2/5 Epoch 13/40 - Loss: 0.0226, MAE: 0.1124 - Val Loss: 0.0096, Val MAE: 0.0684\n",
            "  -> Validation loss did not improve by at least 0.002. Epochs without improvement: 1\n"
          ]
        },
        {
          "name": "stderr",
          "output_type": "stream",
          "text": []
        },
        {
          "name": "stdout",
          "output_type": "stream",
          "text": [
            "Fold 2/5 Epoch 14/40 - Loss: 0.0216, MAE: 0.1103 - Val Loss: 0.0080, Val MAE: 0.0620\n",
            "  -> Validation loss did not improve by at least 0.002. Epochs without improvement: 2\n"
          ]
        },
        {
          "name": "stderr",
          "output_type": "stream",
          "text": []
        },
        {
          "name": "stdout",
          "output_type": "stream",
          "text": [
            "Fold 2/5 Epoch 15/40 - Loss: 0.0202, MAE: 0.1059 - Val Loss: 0.0074, Val MAE: 0.0576\n",
            "  -> Validation loss did not improve by at least 0.002. Epochs without improvement: 3\n"
          ]
        },
        {
          "name": "stderr",
          "output_type": "stream",
          "text": []
        },
        {
          "name": "stdout",
          "output_type": "stream",
          "text": [
            "Fold 2/5 Epoch 16/40 - Loss: 0.0194, MAE: 0.1036 - Val Loss: 0.0085, Val MAE: 0.0637\n",
            "  -> Validation loss did not improve by at least 0.002. Epochs without improvement: 4\n"
          ]
        },
        {
          "name": "stderr",
          "output_type": "stream",
          "text": []
        },
        {
          "name": "stdout",
          "output_type": "stream",
          "text": [
            "Fold 2/5 Epoch 17/40 - Loss: 0.0178, MAE: 0.0999 - Val Loss: 0.0078, Val MAE: 0.0596\n",
            "  -> Validation loss did not improve by at least 0.002. Epochs without improvement: 5\n"
          ]
        },
        {
          "name": "stderr",
          "output_type": "stream",
          "text": []
        },
        {
          "name": "stdout",
          "output_type": "stream",
          "text": [
            "Fold 2/5 Epoch 18/40 - Loss: 0.0175, MAE: 0.0982 - Val Loss: 0.0072, Val MAE: 0.0567\n",
            "  -> Validation loss did not improve by at least 0.002. Epochs without improvement: 6\n"
          ]
        },
        {
          "name": "stderr",
          "output_type": "stream",
          "text": []
        },
        {
          "name": "stdout",
          "output_type": "stream",
          "text": [
            "Fold 2/5 Epoch 19/40 - Loss: 0.0164, MAE: 0.0948 - Val Loss: 0.0072, Val MAE: 0.0557\n",
            "  -> Validation loss did not improve by at least 0.002. Epochs without improvement: 7\n"
          ]
        },
        {
          "name": "stderr",
          "output_type": "stream",
          "text": []
        },
        {
          "name": "stdout",
          "output_type": "stream",
          "text": [
            "Fold 2/5 Epoch 20/40 - Loss: 0.0161, MAE: 0.0937 - Val Loss: 0.0074, Val MAE: 0.0586\n",
            "  -> Validation loss did not improve by at least 0.002. Epochs without improvement: 8\n"
          ]
        },
        {
          "name": "stderr",
          "output_type": "stream",
          "text": []
        },
        {
          "name": "stdout",
          "output_type": "stream",
          "text": [
            "Fold 2/5 Epoch 21/40 - Loss: 0.0156, MAE: 0.0921 - Val Loss: 0.0071, Val MAE: 0.0559\n",
            "  -> Validation loss did not improve by at least 0.002. Epochs without improvement: 9\n"
          ]
        },
        {
          "name": "stderr",
          "output_type": "stream",
          "text": []
        },
        {
          "name": "stdout",
          "output_type": "stream",
          "text": [
            "Fold 2/5 Epoch 22/40 - Loss: 0.0147, MAE: 0.0887 - Val Loss: 0.0073, Val MAE: 0.0570\n",
            "  -> Validation loss did not improve by at least 0.002. Epochs without improvement: 10\n"
          ]
        },
        {
          "name": "stderr",
          "output_type": "stream",
          "text": []
        },
        {
          "name": "stdout",
          "output_type": "stream",
          "text": [
            "Fold 2/5 Epoch 23/40 - Loss: 0.0138, MAE: 0.0863 - Val Loss: 0.0063, Val MAE: 0.0515\n",
            "  -> New best validation loss: 0.0063. Saving checkpoint...\n"
          ]
        },
        {
          "name": "stderr",
          "output_type": "stream",
          "text": []
        },
        {
          "name": "stdout",
          "output_type": "stream",
          "text": [
            "Fold 2/5 Epoch 24/40 - Loss: 0.0137, MAE: 0.0854 - Val Loss: 0.0061, Val MAE: 0.0509\n",
            "  -> Validation loss did not improve by at least 0.002. Epochs without improvement: 1\n"
          ]
        },
        {
          "name": "stderr",
          "output_type": "stream",
          "text": []
        },
        {
          "name": "stdout",
          "output_type": "stream",
          "text": [
            "Fold 2/5 Epoch 25/40 - Loss: 0.0136, MAE: 0.0852 - Val Loss: 0.0063, Val MAE: 0.0522\n",
            "  -> Validation loss did not improve by at least 0.002. Epochs without improvement: 2\n"
          ]
        },
        {
          "name": "stderr",
          "output_type": "stream",
          "text": []
        },
        {
          "name": "stdout",
          "output_type": "stream",
          "text": [
            "Fold 2/5 Epoch 26/40 - Loss: 0.0130, MAE: 0.0834 - Val Loss: 0.0064, Val MAE: 0.0526\n",
            "  -> Validation loss did not improve by at least 0.002. Epochs without improvement: 3\n"
          ]
        },
        {
          "name": "stderr",
          "output_type": "stream",
          "text": []
        },
        {
          "name": "stdout",
          "output_type": "stream",
          "text": [
            "Fold 2/5 Epoch 27/40 - Loss: 0.0122, MAE: 0.0814 - Val Loss: 0.0071, Val MAE: 0.0592\n",
            "  -> Validation loss did not improve by at least 0.002. Epochs without improvement: 4\n"
          ]
        },
        {
          "name": "stderr",
          "output_type": "stream",
          "text": []
        },
        {
          "name": "stdout",
          "output_type": "stream",
          "text": [
            "Fold 2/5 Epoch 28/40 - Loss: 0.0120, MAE: 0.0798 - Val Loss: 0.0064, Val MAE: 0.0523\n",
            "  -> Validation loss did not improve by at least 0.002. Epochs without improvement: 5\n"
          ]
        },
        {
          "name": "stderr",
          "output_type": "stream",
          "text": []
        },
        {
          "name": "stdout",
          "output_type": "stream",
          "text": [
            "Fold 2/5 Epoch 29/40 - Loss: 0.0118, MAE: 0.0795 - Val Loss: 0.0060, Val MAE: 0.0494\n",
            "  -> Validation loss did not improve by at least 0.002. Epochs without improvement: 6\n"
          ]
        },
        {
          "name": "stderr",
          "output_type": "stream",
          "text": []
        },
        {
          "name": "stdout",
          "output_type": "stream",
          "text": [
            "Fold 2/5 Epoch 30/40 - Loss: 0.0115, MAE: 0.0781 - Val Loss: 0.0056, Val MAE: 0.0485\n",
            "  -> Validation loss did not improve by at least 0.002. Epochs without improvement: 7\n"
          ]
        },
        {
          "name": "stderr",
          "output_type": "stream",
          "text": []
        },
        {
          "name": "stdout",
          "output_type": "stream",
          "text": [
            "Fold 2/5 Epoch 31/40 - Loss: 0.0111, MAE: 0.0770 - Val Loss: 0.0058, Val MAE: 0.0496\n",
            "  -> Validation loss did not improve by at least 0.002. Epochs without improvement: 8\n"
          ]
        },
        {
          "name": "stderr",
          "output_type": "stream",
          "text": []
        },
        {
          "name": "stdout",
          "output_type": "stream",
          "text": [
            "Fold 2/5 Epoch 32/40 - Loss: 0.0110, MAE: 0.0764 - Val Loss: 0.0063, Val MAE: 0.0534\n",
            "  -> Validation loss did not improve by at least 0.002. Epochs without improvement: 9\n"
          ]
        },
        {
          "name": "stderr",
          "output_type": "stream",
          "text": []
        },
        {
          "name": "stdout",
          "output_type": "stream",
          "text": [
            "Fold 2/5 Epoch 33/40 - Loss: 0.0104, MAE: 0.0748 - Val Loss: 0.0064, Val MAE: 0.0548\n",
            "  -> Validation loss did not improve by at least 0.002. Epochs without improvement: 10\n"
          ]
        },
        {
          "name": "stderr",
          "output_type": "stream",
          "text": []
        },
        {
          "name": "stdout",
          "output_type": "stream",
          "text": [
            "Fold 2/5 Epoch 34/40 - Loss: 0.0104, MAE: 0.0740 - Val Loss: 0.0057, Val MAE: 0.0506\n",
            "  -> Validation loss did not improve by at least 0.002. Epochs without improvement: 11\n"
          ]
        },
        {
          "name": "stderr",
          "output_type": "stream",
          "text": []
        },
        {
          "name": "stdout",
          "output_type": "stream",
          "text": [
            "Fold 2/5 Epoch 35/40 - Loss: 0.0101, MAE: 0.0731 - Val Loss: 0.0058, Val MAE: 0.0508\n",
            "  -> Validation loss did not improve by at least 0.002. Epochs without improvement: 12\n"
          ]
        },
        {
          "name": "stderr",
          "output_type": "stream",
          "text": []
        },
        {
          "name": "stdout",
          "output_type": "stream",
          "text": [
            "Fold 2/5 Epoch 36/40 - Loss: 0.0099, MAE: 0.0729 - Val Loss: 0.0060, Val MAE: 0.0530\n",
            "  -> Validation loss did not improve by at least 0.002. Epochs without improvement: 13\n"
          ]
        },
        {
          "name": "stderr",
          "output_type": "stream",
          "text": []
        },
        {
          "name": "stdout",
          "output_type": "stream",
          "text": [
            "Fold 2/5 Epoch 37/40 - Loss: 0.0095, MAE: 0.0717 - Val Loss: 0.0055, Val MAE: 0.0490\n",
            "  -> Validation loss did not improve by at least 0.002. Epochs without improvement: 14\n"
          ]
        },
        {
          "name": "stderr",
          "output_type": "stream",
          "text": []
        },
        {
          "name": "stdout",
          "output_type": "stream",
          "text": [
            "Fold 2/5 Epoch 38/40 - Loss: 0.0091, MAE: 0.0693 - Val Loss: 0.0058, Val MAE: 0.0504\n",
            "  -> Validation loss did not improve by at least 0.002. Epochs without improvement: 15\n",
            "  -> Early stopping triggered after 15 epochs without improvement.\n",
            "  -> Loading best model state for fold 2 after early stopping.\n",
            "\n",
            "--- Starting Fold 3/5 ---\n",
            "Tamanho da característica da câmera achatada calculado dinamicamente: 24576\n",
            "No checkpoint found for fold 3. Starting from scratch.\n",
            "\n",
            "--- Starting Model Training for Fold 3 from Epoch 1 ---\n"
          ]
        },
        {
          "name": "stderr",
          "output_type": "stream",
          "text": []
        },
        {
          "name": "stdout",
          "output_type": "stream",
          "text": [
            "Fold 3/5 Epoch 1/40 - Loss: 0.2178, MAE: 0.3759 - Val Loss: 0.0452, Val MAE: 0.1575\n",
            "  -> New best validation loss: 0.0452. Saving checkpoint...\n"
          ]
        },
        {
          "name": "stderr",
          "output_type": "stream",
          "text": []
        },
        {
          "name": "stdout",
          "output_type": "stream",
          "text": [
            "Fold 3/5 Epoch 2/40 - Loss: 0.0854, MAE: 0.2300 - Val Loss: 0.0348, Val MAE: 0.1315\n",
            "  -> New best validation loss: 0.0348. Saving checkpoint...\n"
          ]
        },
        {
          "name": "stderr",
          "output_type": "stream",
          "text": []
        },
        {
          "name": "stdout",
          "output_type": "stream",
          "text": [
            "Fold 3/5 Epoch 3/40 - Loss: 0.0628, MAE: 0.1943 - Val Loss: 0.0296, Val MAE: 0.1137\n",
            "  -> New best validation loss: 0.0296. Saving checkpoint...\n"
          ]
        },
        {
          "name": "stderr",
          "output_type": "stream",
          "text": []
        },
        {
          "name": "stdout",
          "output_type": "stream",
          "text": [
            "Fold 3/5 Epoch 4/40 - Loss: 0.0537, MAE: 0.1789 - Val Loss: 0.0247, Val MAE: 0.1040\n",
            "  -> New best validation loss: 0.0247. Saving checkpoint...\n"
          ]
        },
        {
          "name": "stderr",
          "output_type": "stream",
          "text": []
        },
        {
          "name": "stdout",
          "output_type": "stream",
          "text": [
            "Fold 3/5 Epoch 5/40 - Loss: 0.0464, MAE: 0.1643 - Val Loss: 0.0220, Val MAE: 0.0951\n",
            "  -> New best validation loss: 0.0220. Saving checkpoint...\n"
          ]
        },
        {
          "name": "stderr",
          "output_type": "stream",
          "text": []
        },
        {
          "name": "stdout",
          "output_type": "stream",
          "text": [
            "Fold 3/5 Epoch 6/40 - Loss: 0.0393, MAE: 0.1520 - Val Loss: 0.0189, Val MAE: 0.0861\n",
            "  -> New best validation loss: 0.0189. Saving checkpoint...\n"
          ]
        },
        {
          "name": "stderr",
          "output_type": "stream",
          "text": []
        },
        {
          "name": "stdout",
          "output_type": "stream",
          "text": [
            "Fold 3/5 Epoch 7/40 - Loss: 0.0345, MAE: 0.1423 - Val Loss: 0.0181, Val MAE: 0.0867\n",
            "  -> Validation loss did not improve by at least 0.002. Epochs without improvement: 1\n"
          ]
        },
        {
          "name": "stderr",
          "output_type": "stream",
          "text": []
        },
        {
          "name": "stdout",
          "output_type": "stream",
          "text": [
            "Fold 3/5 Epoch 8/40 - Loss: 0.0318, MAE: 0.1357 - Val Loss: 0.0174, Val MAE: 0.0828\n",
            "  -> Validation loss did not improve by at least 0.002. Epochs without improvement: 2\n"
          ]
        },
        {
          "name": "stderr",
          "output_type": "stream",
          "text": []
        },
        {
          "name": "stdout",
          "output_type": "stream",
          "text": [
            "Fold 3/5 Epoch 9/40 - Loss: 0.0286, MAE: 0.1286 - Val Loss: 0.0149, Val MAE: 0.0778\n",
            "  -> New best validation loss: 0.0149. Saving checkpoint...\n"
          ]
        },
        {
          "name": "stderr",
          "output_type": "stream",
          "text": []
        },
        {
          "name": "stdout",
          "output_type": "stream",
          "text": [
            "Fold 3/5 Epoch 10/40 - Loss: 0.0275, MAE: 0.1256 - Val Loss: 0.0131, Val MAE: 0.0724\n",
            "  -> Validation loss did not improve by at least 0.002. Epochs without improvement: 1\n"
          ]
        },
        {
          "name": "stderr",
          "output_type": "stream",
          "text": []
        },
        {
          "name": "stdout",
          "output_type": "stream",
          "text": [
            "Fold 3/5 Epoch 11/40 - Loss: 0.0249, MAE: 0.1202 - Val Loss: 0.0141, Val MAE: 0.0794\n",
            "  -> Validation loss did not improve by at least 0.002. Epochs without improvement: 2\n"
          ]
        },
        {
          "name": "stderr",
          "output_type": "stream",
          "text": []
        },
        {
          "name": "stdout",
          "output_type": "stream",
          "text": [
            "Fold 3/5 Epoch 12/40 - Loss: 0.0231, MAE: 0.1148 - Val Loss: 0.0134, Val MAE: 0.0783\n",
            "  -> Validation loss did not improve by at least 0.002. Epochs without improvement: 3\n"
          ]
        },
        {
          "name": "stderr",
          "output_type": "stream",
          "text": []
        },
        {
          "name": "stdout",
          "output_type": "stream",
          "text": [
            "Fold 3/5 Epoch 13/40 - Loss: 0.0222, MAE: 0.1116 - Val Loss: 0.0150, Val MAE: 0.0871\n",
            "  -> Validation loss did not improve by at least 0.002. Epochs without improvement: 4\n"
          ]
        },
        {
          "name": "stderr",
          "output_type": "stream",
          "text": []
        },
        {
          "name": "stdout",
          "output_type": "stream",
          "text": [
            "Fold 3/5 Epoch 14/40 - Loss: 0.0214, MAE: 0.1105 - Val Loss: 0.0118, Val MAE: 0.0687\n",
            "  -> New best validation loss: 0.0118. Saving checkpoint...\n"
          ]
        },
        {
          "name": "stderr",
          "output_type": "stream",
          "text": []
        },
        {
          "name": "stdout",
          "output_type": "stream",
          "text": [
            "Fold 3/5 Epoch 15/40 - Loss: 0.0194, MAE: 0.1038 - Val Loss: 0.0111, Val MAE: 0.0638\n",
            "  -> Validation loss did not improve by at least 0.002. Epochs without improvement: 1\n"
          ]
        },
        {
          "name": "stderr",
          "output_type": "stream",
          "text": []
        },
        {
          "name": "stdout",
          "output_type": "stream",
          "text": [
            "Fold 3/5 Epoch 16/40 - Loss: 0.0180, MAE: 0.1006 - Val Loss: 0.0105, Val MAE: 0.0629\n",
            "  -> Validation loss did not improve by at least 0.002. Epochs without improvement: 2\n"
          ]
        },
        {
          "name": "stderr",
          "output_type": "stream",
          "text": []
        },
        {
          "name": "stdout",
          "output_type": "stream",
          "text": [
            "Fold 3/5 Epoch 17/40 - Loss: 0.0179, MAE: 0.0998 - Val Loss: 0.0109, Val MAE: 0.0662\n",
            "  -> Validation loss did not improve by at least 0.002. Epochs without improvement: 3\n"
          ]
        },
        {
          "name": "stderr",
          "output_type": "stream",
          "text": []
        },
        {
          "name": "stdout",
          "output_type": "stream",
          "text": [
            "Fold 3/5 Epoch 18/40 - Loss: 0.0170, MAE: 0.0971 - Val Loss: 0.0104, Val MAE: 0.0625\n",
            "  -> Validation loss did not improve by at least 0.002. Epochs without improvement: 4\n"
          ]
        },
        {
          "name": "stderr",
          "output_type": "stream",
          "text": []
        },
        {
          "name": "stdout",
          "output_type": "stream",
          "text": [
            "Fold 3/5 Epoch 19/40 - Loss: 0.0168, MAE: 0.0970 - Val Loss: 0.0097, Val MAE: 0.0605\n",
            "  -> New best validation loss: 0.0097. Saving checkpoint...\n"
          ]
        },
        {
          "name": "stderr",
          "output_type": "stream",
          "text": []
        },
        {
          "name": "stdout",
          "output_type": "stream",
          "text": [
            "Fold 3/5 Epoch 20/40 - Loss: 0.0158, MAE: 0.0927 - Val Loss: 0.0097, Val MAE: 0.0622\n",
            "  -> Validation loss did not improve by at least 0.002. Epochs without improvement: 1\n"
          ]
        },
        {
          "name": "stderr",
          "output_type": "stream",
          "text": []
        },
        {
          "name": "stdout",
          "output_type": "stream",
          "text": [
            "Fold 3/5 Epoch 21/40 - Loss: 0.0154, MAE: 0.0925 - Val Loss: 0.0095, Val MAE: 0.0605\n",
            "  -> Validation loss did not improve by at least 0.002. Epochs without improvement: 2\n"
          ]
        },
        {
          "name": "stderr",
          "output_type": "stream",
          "text": []
        },
        {
          "name": "stdout",
          "output_type": "stream",
          "text": [
            "Fold 3/5 Epoch 22/40 - Loss: 0.0156, MAE: 0.0924 - Val Loss: 0.0090, Val MAE: 0.0572\n",
            "  -> Validation loss did not improve by at least 0.002. Epochs without improvement: 3\n"
          ]
        },
        {
          "name": "stderr",
          "output_type": "stream",
          "text": []
        },
        {
          "name": "stdout",
          "output_type": "stream",
          "text": [
            "Fold 3/5 Epoch 23/40 - Loss: 0.0145, MAE: 0.0886 - Val Loss: 0.0103, Val MAE: 0.0689\n",
            "  -> Validation loss did not improve by at least 0.002. Epochs without improvement: 4\n"
          ]
        },
        {
          "name": "stderr",
          "output_type": "stream",
          "text": []
        },
        {
          "name": "stdout",
          "output_type": "stream",
          "text": [
            "Fold 3/5 Epoch 24/40 - Loss: 0.0142, MAE: 0.0885 - Val Loss: 0.0083, Val MAE: 0.0553\n",
            "  -> Validation loss did not improve by at least 0.002. Epochs without improvement: 5\n"
          ]
        },
        {
          "name": "stderr",
          "output_type": "stream",
          "text": []
        },
        {
          "name": "stdout",
          "output_type": "stream",
          "text": [
            "Fold 3/5 Epoch 25/40 - Loss: 0.0141, MAE: 0.0880 - Val Loss: 0.0095, Val MAE: 0.0655\n",
            "  -> Validation loss did not improve by at least 0.002. Epochs without improvement: 6\n"
          ]
        },
        {
          "name": "stderr",
          "output_type": "stream",
          "text": []
        },
        {
          "name": "stdout",
          "output_type": "stream",
          "text": [
            "Fold 3/5 Epoch 26/40 - Loss: 0.0133, MAE: 0.0842 - Val Loss: 0.0086, Val MAE: 0.0610\n",
            "  -> Validation loss did not improve by at least 0.002. Epochs without improvement: 7\n"
          ]
        },
        {
          "name": "stderr",
          "output_type": "stream",
          "text": []
        },
        {
          "name": "stdout",
          "output_type": "stream",
          "text": [
            "Fold 3/5 Epoch 27/40 - Loss: 0.0129, MAE: 0.0828 - Val Loss: 0.0081, Val MAE: 0.0552\n",
            "  -> Validation loss did not improve by at least 0.002. Epochs without improvement: 8\n"
          ]
        },
        {
          "name": "stderr",
          "output_type": "stream",
          "text": []
        },
        {
          "name": "stdout",
          "output_type": "stream",
          "text": [
            "Fold 3/5 Epoch 28/40 - Loss: 0.0129, MAE: 0.0832 - Val Loss: 0.0083, Val MAE: 0.0596\n",
            "  -> Validation loss did not improve by at least 0.002. Epochs without improvement: 9\n"
          ]
        },
        {
          "name": "stderr",
          "output_type": "stream",
          "text": []
        },
        {
          "name": "stdout",
          "output_type": "stream",
          "text": [
            "Fold 3/5 Epoch 29/40 - Loss: 0.0126, MAE: 0.0824 - Val Loss: 0.0082, Val MAE: 0.0608\n",
            "  -> Validation loss did not improve by at least 0.002. Epochs without improvement: 10\n"
          ]
        },
        {
          "name": "stderr",
          "output_type": "stream",
          "text": []
        },
        {
          "name": "stdout",
          "output_type": "stream",
          "text": [
            "Fold 3/5 Epoch 30/40 - Loss: 0.0120, MAE: 0.0808 - Val Loss: 0.0081, Val MAE: 0.0594\n",
            "  -> Validation loss did not improve by at least 0.002. Epochs without improvement: 11\n"
          ]
        },
        {
          "name": "stderr",
          "output_type": "stream",
          "text": []
        },
        {
          "name": "stdout",
          "output_type": "stream",
          "text": [
            "Fold 3/5 Epoch 31/40 - Loss: 0.0121, MAE: 0.0804 - Val Loss: 0.0075, Val MAE: 0.0552\n",
            "  -> New best validation loss: 0.0075. Saving checkpoint...\n"
          ]
        },
        {
          "name": "stderr",
          "output_type": "stream",
          "text": []
        },
        {
          "name": "stdout",
          "output_type": "stream",
          "text": [
            "Fold 3/5 Epoch 32/40 - Loss: 0.0115, MAE: 0.0782 - Val Loss: 0.0077, Val MAE: 0.0561\n",
            "  -> Validation loss did not improve by at least 0.002. Epochs without improvement: 1\n"
          ]
        },
        {
          "name": "stderr",
          "output_type": "stream",
          "text": []
        },
        {
          "name": "stdout",
          "output_type": "stream",
          "text": [
            "Fold 3/5 Epoch 33/40 - Loss: 0.0112, MAE: 0.0776 - Val Loss: 0.0077, Val MAE: 0.0574\n",
            "  -> Validation loss did not improve by at least 0.002. Epochs without improvement: 2\n"
          ]
        },
        {
          "name": "stderr",
          "output_type": "stream",
          "text": []
        },
        {
          "name": "stdout",
          "output_type": "stream",
          "text": [
            "Fold 3/5 Epoch 34/40 - Loss: 0.0109, MAE: 0.0762 - Val Loss: 0.0076, Val MAE: 0.0567\n",
            "  -> Validation loss did not improve by at least 0.002. Epochs without improvement: 3\n"
          ]
        },
        {
          "name": "stderr",
          "output_type": "stream",
          "text": []
        },
        {
          "name": "stdout",
          "output_type": "stream",
          "text": [
            "Fold 3/5 Epoch 35/40 - Loss: 0.0110, MAE: 0.0768 - Val Loss: 0.0075, Val MAE: 0.0564\n",
            "  -> Validation loss did not improve by at least 0.002. Epochs without improvement: 4\n"
          ]
        },
        {
          "name": "stderr",
          "output_type": "stream",
          "text": []
        },
        {
          "name": "stdout",
          "output_type": "stream",
          "text": [
            "Fold 3/5 Epoch 36/40 - Loss: 0.0107, MAE: 0.0750 - Val Loss: 0.0072, Val MAE: 0.0548\n",
            "  -> Validation loss did not improve by at least 0.002. Epochs without improvement: 5\n"
          ]
        },
        {
          "name": "stderr",
          "output_type": "stream",
          "text": []
        },
        {
          "name": "stdout",
          "output_type": "stream",
          "text": [
            "Fold 3/5 Epoch 37/40 - Loss: 0.0105, MAE: 0.0749 - Val Loss: 0.0068, Val MAE: 0.0506\n",
            "  -> Validation loss did not improve by at least 0.002. Epochs without improvement: 6\n"
          ]
        },
        {
          "name": "stderr",
          "output_type": "stream",
          "text": []
        },
        {
          "name": "stdout",
          "output_type": "stream",
          "text": [
            "Fold 3/5 Epoch 38/40 - Loss: 0.0104, MAE: 0.0740 - Val Loss: 0.0069, Val MAE: 0.0539\n",
            "  -> Validation loss did not improve by at least 0.002. Epochs without improvement: 7\n"
          ]
        },
        {
          "name": "stderr",
          "output_type": "stream",
          "text": []
        },
        {
          "name": "stdout",
          "output_type": "stream",
          "text": [
            "Fold 3/5 Epoch 39/40 - Loss: 0.0108, MAE: 0.0761 - Val Loss: 0.0075, Val MAE: 0.0591\n",
            "  -> Validation loss did not improve by at least 0.002. Epochs without improvement: 8\n"
          ]
        },
        {
          "name": "stderr",
          "output_type": "stream",
          "text": []
        },
        {
          "name": "stdout",
          "output_type": "stream",
          "text": [
            "Fold 3/5 Epoch 40/40 - Loss: 0.0098, MAE: 0.0717 - Val Loss: 0.0067, Val MAE: 0.0545\n",
            "  -> Validation loss did not improve by at least 0.002. Epochs without improvement: 9\n",
            "\n",
            "--- Starting Fold 4/5 ---\n",
            "Tamanho da característica da câmera achatada calculado dinamicamente: 24576\n",
            "No checkpoint found for fold 4. Starting from scratch.\n",
            "\n",
            "--- Starting Model Training for Fold 4 from Epoch 1 ---\n"
          ]
        },
        {
          "name": "stderr",
          "output_type": "stream",
          "text": []
        },
        {
          "name": "stdout",
          "output_type": "stream",
          "text": [
            "Fold 4/5 Epoch 1/40 - Loss: 0.1931, MAE: 0.3533 - Val Loss: 0.0557, Val MAE: 0.1929\n",
            "  -> New best validation loss: 0.0557. Saving checkpoint...\n"
          ]
        },
        {
          "name": "stderr",
          "output_type": "stream",
          "text": []
        },
        {
          "name": "stdout",
          "output_type": "stream",
          "text": [
            "Fold 4/5 Epoch 2/40 - Loss: 0.0946, MAE: 0.2428 - Val Loss: 0.0587, Val MAE: 0.2039\n",
            "  -> Validation loss did not improve by at least 0.002. Epochs without improvement: 1\n"
          ]
        },
        {
          "name": "stderr",
          "output_type": "stream",
          "text": []
        },
        {
          "name": "stdout",
          "output_type": "stream",
          "text": [
            "Fold 4/5 Epoch 3/40 - Loss: 0.0673, MAE: 0.2037 - Val Loss: 0.0532, Val MAE: 0.1903\n",
            "  -> New best validation loss: 0.0532. Saving checkpoint...\n"
          ]
        },
        {
          "name": "stderr",
          "output_type": "stream",
          "text": []
        },
        {
          "name": "stdout",
          "output_type": "stream",
          "text": [
            "Fold 4/5 Epoch 4/40 - Loss: 0.0579, MAE: 0.1861 - Val Loss: 0.0280, Val MAE: 0.1343\n",
            "  -> New best validation loss: 0.0280. Saving checkpoint...\n"
          ]
        },
        {
          "name": "stderr",
          "output_type": "stream",
          "text": []
        },
        {
          "name": "stdout",
          "output_type": "stream",
          "text": [
            "Fold 4/5 Epoch 5/40 - Loss: 0.0489, MAE: 0.1712 - Val Loss: 0.0273, Val MAE: 0.1319\n",
            "  -> Validation loss did not improve by at least 0.002. Epochs without improvement: 1\n"
          ]
        },
        {
          "name": "stderr",
          "output_type": "stream",
          "text": []
        },
        {
          "name": "stdout",
          "output_type": "stream",
          "text": [
            "Fold 4/5 Epoch 6/40 - Loss: 0.0431, MAE: 0.1592 - Val Loss: 0.0212, Val MAE: 0.1126\n",
            "  -> New best validation loss: 0.0212. Saving checkpoint...\n"
          ]
        },
        {
          "name": "stderr",
          "output_type": "stream",
          "text": []
        },
        {
          "name": "stdout",
          "output_type": "stream",
          "text": [
            "Fold 4/5 Epoch 7/40 - Loss: 0.0379, MAE: 0.1480 - Val Loss: 0.0214, Val MAE: 0.1179\n",
            "  -> Validation loss did not improve by at least 0.002. Epochs without improvement: 1\n"
          ]
        },
        {
          "name": "stderr",
          "output_type": "stream",
          "text": []
        },
        {
          "name": "stdout",
          "output_type": "stream",
          "text": [
            "Fold 4/5 Epoch 8/40 - Loss: 0.0333, MAE: 0.1389 - Val Loss: 0.0197, Val MAE: 0.1127\n",
            "  -> Validation loss did not improve by at least 0.002. Epochs without improvement: 2\n"
          ]
        },
        {
          "name": "stderr",
          "output_type": "stream",
          "text": []
        },
        {
          "name": "stdout",
          "output_type": "stream",
          "text": [
            "Fold 4/5 Epoch 9/40 - Loss: 0.0308, MAE: 0.1334 - Val Loss: 0.0152, Val MAE: 0.0922\n",
            "  -> New best validation loss: 0.0152. Saving checkpoint...\n"
          ]
        },
        {
          "name": "stderr",
          "output_type": "stream",
          "text": []
        },
        {
          "name": "stdout",
          "output_type": "stream",
          "text": [
            "Fold 4/5 Epoch 10/40 - Loss: 0.0289, MAE: 0.1280 - Val Loss: 0.0137, Val MAE: 0.0845\n",
            "  -> Validation loss did not improve by at least 0.002. Epochs without improvement: 1\n"
          ]
        },
        {
          "name": "stderr",
          "output_type": "stream",
          "text": []
        },
        {
          "name": "stdout",
          "output_type": "stream",
          "text": [
            "Fold 4/5 Epoch 11/40 - Loss: 0.0257, MAE: 0.1211 - Val Loss: 0.0150, Val MAE: 0.0955\n",
            "  -> Validation loss did not improve by at least 0.002. Epochs without improvement: 2\n"
          ]
        },
        {
          "name": "stderr",
          "output_type": "stream",
          "text": []
        },
        {
          "name": "stdout",
          "output_type": "stream",
          "text": [
            "Fold 4/5 Epoch 12/40 - Loss: 0.0238, MAE: 0.1159 - Val Loss: 0.0149, Val MAE: 0.0972\n",
            "  -> Validation loss did not improve by at least 0.002. Epochs without improvement: 3\n"
          ]
        },
        {
          "name": "stderr",
          "output_type": "stream",
          "text": []
        },
        {
          "name": "stdout",
          "output_type": "stream",
          "text": [
            "Fold 4/5 Epoch 13/40 - Loss: 0.0223, MAE: 0.1123 - Val Loss: 0.0145, Val MAE: 0.0953\n",
            "  -> Validation loss did not improve by at least 0.002. Epochs without improvement: 4\n"
          ]
        },
        {
          "name": "stderr",
          "output_type": "stream",
          "text": []
        },
        {
          "name": "stdout",
          "output_type": "stream",
          "text": [
            "Fold 4/5 Epoch 14/40 - Loss: 0.0204, MAE: 0.1066 - Val Loss: 0.0108, Val MAE: 0.0751\n",
            "  -> New best validation loss: 0.0108. Saving checkpoint...\n"
          ]
        },
        {
          "name": "stderr",
          "output_type": "stream",
          "text": []
        },
        {
          "name": "stdout",
          "output_type": "stream",
          "text": [
            "Fold 4/5 Epoch 15/40 - Loss: 0.0193, MAE: 0.1057 - Val Loss: 0.0134, Val MAE: 0.0938\n",
            "  -> Validation loss did not improve by at least 0.002. Epochs without improvement: 1\n"
          ]
        },
        {
          "name": "stderr",
          "output_type": "stream",
          "text": []
        },
        {
          "name": "stdout",
          "output_type": "stream",
          "text": [
            "Fold 4/5 Epoch 16/40 - Loss: 0.0181, MAE: 0.1019 - Val Loss: 0.0112, Val MAE: 0.0802\n",
            "  -> Validation loss did not improve by at least 0.002. Epochs without improvement: 2\n"
          ]
        },
        {
          "name": "stderr",
          "output_type": "stream",
          "text": []
        },
        {
          "name": "stdout",
          "output_type": "stream",
          "text": [
            "Fold 4/5 Epoch 17/40 - Loss: 0.0175, MAE: 0.0983 - Val Loss: 0.0114, Val MAE: 0.0849\n",
            "  -> Validation loss did not improve by at least 0.002. Epochs without improvement: 3\n"
          ]
        },
        {
          "name": "stderr",
          "output_type": "stream",
          "text": []
        },
        {
          "name": "stdout",
          "output_type": "stream",
          "text": [
            "Fold 4/5 Epoch 18/40 - Loss: 0.0160, MAE: 0.0953 - Val Loss: 0.0103, Val MAE: 0.0788\n",
            "  -> Validation loss did not improve by at least 0.002. Epochs without improvement: 4\n"
          ]
        },
        {
          "name": "stderr",
          "output_type": "stream",
          "text": []
        },
        {
          "name": "stdout",
          "output_type": "stream",
          "text": [
            "Fold 4/5 Epoch 19/40 - Loss: 0.0160, MAE: 0.0944 - Val Loss: 0.0108, Val MAE: 0.0824\n",
            "  -> Validation loss did not improve by at least 0.002. Epochs without improvement: 5\n"
          ]
        },
        {
          "name": "stderr",
          "output_type": "stream",
          "text": []
        },
        {
          "name": "stdout",
          "output_type": "stream",
          "text": [
            "Fold 4/5 Epoch 20/40 - Loss: 0.0148, MAE: 0.0922 - Val Loss: 0.0099, Val MAE: 0.0797\n",
            "  -> Validation loss did not improve by at least 0.002. Epochs without improvement: 6\n"
          ]
        },
        {
          "name": "stderr",
          "output_type": "stream",
          "text": []
        },
        {
          "name": "stdout",
          "output_type": "stream",
          "text": [
            "Fold 4/5 Epoch 21/40 - Loss: 0.0138, MAE: 0.0882 - Val Loss: 0.0099, Val MAE: 0.0791\n",
            "  -> Validation loss did not improve by at least 0.002. Epochs without improvement: 7\n"
          ]
        },
        {
          "name": "stderr",
          "output_type": "stream",
          "text": []
        },
        {
          "name": "stdout",
          "output_type": "stream",
          "text": [
            "Fold 4/5 Epoch 22/40 - Loss: 0.0134, MAE: 0.0864 - Val Loss: 0.0095, Val MAE: 0.0774\n",
            "  -> Validation loss did not improve by at least 0.002. Epochs without improvement: 8\n"
          ]
        },
        {
          "name": "stderr",
          "output_type": "stream",
          "text": []
        },
        {
          "name": "stdout",
          "output_type": "stream",
          "text": [
            "Fold 4/5 Epoch 23/40 - Loss: 0.0129, MAE: 0.0843 - Val Loss: 0.0090, Val MAE: 0.0755\n",
            "  -> Validation loss did not improve by at least 0.002. Epochs without improvement: 9\n"
          ]
        },
        {
          "name": "stderr",
          "output_type": "stream",
          "text": []
        },
        {
          "name": "stdout",
          "output_type": "stream",
          "text": [
            "Fold 4/5 Epoch 24/40 - Loss: 0.0128, MAE: 0.0850 - Val Loss: 0.0080, Val MAE: 0.0677\n",
            "  -> New best validation loss: 0.0080. Saving checkpoint...\n"
          ]
        },
        {
          "name": "stderr",
          "output_type": "stream",
          "text": []
        },
        {
          "name": "stdout",
          "output_type": "stream",
          "text": [
            "Fold 4/5 Epoch 25/40 - Loss: 0.0123, MAE: 0.0827 - Val Loss: 0.0081, Val MAE: 0.0692\n",
            "  -> Validation loss did not improve by at least 0.002. Epochs without improvement: 1\n"
          ]
        },
        {
          "name": "stderr",
          "output_type": "stream",
          "text": []
        },
        {
          "name": "stdout",
          "output_type": "stream",
          "text": [
            "Fold 4/5 Epoch 26/40 - Loss: 0.0119, MAE: 0.0818 - Val Loss: 0.0073, Val MAE: 0.0631\n",
            "  -> Validation loss did not improve by at least 0.002. Epochs without improvement: 2\n"
          ]
        },
        {
          "name": "stderr",
          "output_type": "stream",
          "text": []
        },
        {
          "name": "stdout",
          "output_type": "stream",
          "text": [
            "Fold 4/5 Epoch 27/40 - Loss: 0.0115, MAE: 0.0799 - Val Loss: 0.0081, Val MAE: 0.0684\n",
            "  -> Validation loss did not improve by at least 0.002. Epochs without improvement: 3\n"
          ]
        },
        {
          "name": "stderr",
          "output_type": "stream",
          "text": []
        },
        {
          "name": "stdout",
          "output_type": "stream",
          "text": [
            "Fold 4/5 Epoch 28/40 - Loss: 0.0116, MAE: 0.0804 - Val Loss: 0.0084, Val MAE: 0.0726\n",
            "  -> Validation loss did not improve by at least 0.002. Epochs without improvement: 4\n"
          ]
        },
        {
          "name": "stderr",
          "output_type": "stream",
          "text": []
        },
        {
          "name": "stdout",
          "output_type": "stream",
          "text": [
            "Fold 4/5 Epoch 29/40 - Loss: 0.0112, MAE: 0.0786 - Val Loss: 0.0079, Val MAE: 0.0680\n",
            "  -> Validation loss did not improve by at least 0.002. Epochs without improvement: 5\n"
          ]
        },
        {
          "name": "stderr",
          "output_type": "stream",
          "text": []
        },
        {
          "name": "stdout",
          "output_type": "stream",
          "text": [
            "Fold 4/5 Epoch 30/40 - Loss: 0.0108, MAE: 0.0779 - Val Loss: 0.0080, Val MAE: 0.0700\n",
            "  -> Validation loss did not improve by at least 0.002. Epochs without improvement: 6\n"
          ]
        },
        {
          "name": "stderr",
          "output_type": "stream",
          "text": []
        },
        {
          "name": "stdout",
          "output_type": "stream",
          "text": [
            "Fold 4/5 Epoch 31/40 - Loss: 0.0105, MAE: 0.0766 - Val Loss: 0.0068, Val MAE: 0.0603\n",
            "  -> Validation loss did not improve by at least 0.002. Epochs without improvement: 7\n"
          ]
        },
        {
          "name": "stderr",
          "output_type": "stream",
          "text": []
        },
        {
          "name": "stdout",
          "output_type": "stream",
          "text": [
            "Fold 4/5 Epoch 32/40 - Loss: 0.0101, MAE: 0.0750 - Val Loss: 0.0077, Val MAE: 0.0653\n",
            "  -> Validation loss did not improve by at least 0.002. Epochs without improvement: 8\n"
          ]
        },
        {
          "name": "stderr",
          "output_type": "stream",
          "text": []
        },
        {
          "name": "stdout",
          "output_type": "stream",
          "text": [
            "Fold 4/5 Epoch 33/40 - Loss: 0.0100, MAE: 0.0737 - Val Loss: 0.0065, Val MAE: 0.0591\n",
            "  -> Validation loss did not improve by at least 0.002. Epochs without improvement: 9\n"
          ]
        },
        {
          "name": "stderr",
          "output_type": "stream",
          "text": []
        },
        {
          "name": "stdout",
          "output_type": "stream",
          "text": [
            "Fold 4/5 Epoch 34/40 - Loss: 0.0096, MAE: 0.0720 - Val Loss: 0.0073, Val MAE: 0.0637\n",
            "  -> Validation loss did not improve by at least 0.002. Epochs without improvement: 10\n"
          ]
        },
        {
          "name": "stderr",
          "output_type": "stream",
          "text": []
        },
        {
          "name": "stdout",
          "output_type": "stream",
          "text": [
            "Fold 4/5 Epoch 35/40 - Loss: 0.0097, MAE: 0.0722 - Val Loss: 0.0072, Val MAE: 0.0646\n",
            "  -> Validation loss did not improve by at least 0.002. Epochs without improvement: 11\n"
          ]
        },
        {
          "name": "stderr",
          "output_type": "stream",
          "text": []
        },
        {
          "name": "stdout",
          "output_type": "stream",
          "text": [
            "Fold 4/5 Epoch 36/40 - Loss: 0.0093, MAE: 0.0714 - Val Loss: 0.0066, Val MAE: 0.0594\n",
            "  -> Validation loss did not improve by at least 0.002. Epochs without improvement: 12\n"
          ]
        },
        {
          "name": "stderr",
          "output_type": "stream",
          "text": []
        },
        {
          "name": "stdout",
          "output_type": "stream",
          "text": [
            "Fold 4/5 Epoch 37/40 - Loss: 0.0092, MAE: 0.0710 - Val Loss: 0.0066, Val MAE: 0.0598\n",
            "  -> Validation loss did not improve by at least 0.002. Epochs without improvement: 13\n"
          ]
        },
        {
          "name": "stderr",
          "output_type": "stream",
          "text": []
        },
        {
          "name": "stdout",
          "output_type": "stream",
          "text": [
            "Fold 4/5 Epoch 38/40 - Loss: 0.0088, MAE: 0.0694 - Val Loss: 0.0067, Val MAE: 0.0605\n",
            "  -> Validation loss did not improve by at least 0.002. Epochs without improvement: 14\n"
          ]
        },
        {
          "name": "stderr",
          "output_type": "stream",
          "text": []
        },
        {
          "name": "stdout",
          "output_type": "stream",
          "text": [
            "Fold 4/5 Epoch 39/40 - Loss: 0.0089, MAE: 0.0690 - Val Loss: 0.0066, Val MAE: 0.0607\n",
            "  -> Validation loss did not improve by at least 0.002. Epochs without improvement: 15\n",
            "  -> Early stopping triggered after 15 epochs without improvement.\n",
            "  -> Loading best model state for fold 4 after early stopping.\n",
            "\n",
            "--- Starting Fold 5/5 ---\n",
            "Tamanho da característica da câmera achatada calculado dinamicamente: 24576\n",
            "No checkpoint found for fold 5. Starting from scratch.\n",
            "\n",
            "--- Starting Model Training for Fold 5 from Epoch 1 ---\n"
          ]
        },
        {
          "name": "stderr",
          "output_type": "stream",
          "text": []
        },
        {
          "name": "stdout",
          "output_type": "stream",
          "text": [
            "Fold 5/5 Epoch 1/40 - Loss: 0.2004, MAE: 0.3571 - Val Loss: 0.0507, Val MAE: 0.1682\n",
            "  -> New best validation loss: 0.0507. Saving checkpoint...\n"
          ]
        },
        {
          "name": "stderr",
          "output_type": "stream",
          "text": []
        },
        {
          "name": "stdout",
          "output_type": "stream",
          "text": [
            "Fold 5/5 Epoch 2/40 - Loss: 0.0862, MAE: 0.2283 - Val Loss: 0.0431, Val MAE: 0.1593\n",
            "  -> New best validation loss: 0.0431. Saving checkpoint...\n"
          ]
        },
        {
          "name": "stderr",
          "output_type": "stream",
          "text": []
        },
        {
          "name": "stdout",
          "output_type": "stream",
          "text": [
            "Fold 5/5 Epoch 3/40 - Loss: 0.0683, MAE: 0.2013 - Val Loss: 0.0299, Val MAE: 0.1283\n",
            "  -> New best validation loss: 0.0299. Saving checkpoint...\n"
          ]
        },
        {
          "name": "stderr",
          "output_type": "stream",
          "text": []
        },
        {
          "name": "stdout",
          "output_type": "stream",
          "text": [
            "Fold 5/5 Epoch 4/40 - Loss: 0.0558, MAE: 0.1789 - Val Loss: 0.0229, Val MAE: 0.1076\n",
            "  -> New best validation loss: 0.0229. Saving checkpoint...\n"
          ]
        },
        {
          "name": "stderr",
          "output_type": "stream",
          "text": []
        },
        {
          "name": "stdout",
          "output_type": "stream",
          "text": [
            "Fold 5/5 Epoch 5/40 - Loss: 0.0490, MAE: 0.1682 - Val Loss: 0.0196, Val MAE: 0.0980\n",
            "  -> New best validation loss: 0.0196. Saving checkpoint...\n"
          ]
        },
        {
          "name": "stderr",
          "output_type": "stream",
          "text": []
        },
        {
          "name": "stdout",
          "output_type": "stream",
          "text": [
            "Fold 5/5 Epoch 6/40 - Loss: 0.0420, MAE: 0.1550 - Val Loss: 0.0175, Val MAE: 0.0965\n",
            "  -> New best validation loss: 0.0175. Saving checkpoint...\n"
          ]
        },
        {
          "name": "stderr",
          "output_type": "stream",
          "text": []
        },
        {
          "name": "stdout",
          "output_type": "stream",
          "text": [
            "Fold 5/5 Epoch 7/40 - Loss: 0.0368, MAE: 0.1449 - Val Loss: 0.0142, Val MAE: 0.0864\n",
            "  -> New best validation loss: 0.0142. Saving checkpoint...\n"
          ]
        },
        {
          "name": "stderr",
          "output_type": "stream",
          "text": []
        },
        {
          "name": "stdout",
          "output_type": "stream",
          "text": [
            "Fold 5/5 Epoch 8/40 - Loss: 0.0333, MAE: 0.1394 - Val Loss: 0.0130, Val MAE: 0.0841\n",
            "  -> Validation loss did not improve by at least 0.002. Epochs without improvement: 1\n"
          ]
        },
        {
          "name": "stderr",
          "output_type": "stream",
          "text": []
        },
        {
          "name": "stdout",
          "output_type": "stream",
          "text": [
            "Fold 5/5 Epoch 9/40 - Loss: 0.0297, MAE: 0.1303 - Val Loss: 0.0123, Val MAE: 0.0804\n",
            "  -> Validation loss did not improve by at least 0.002. Epochs without improvement: 2\n"
          ]
        },
        {
          "name": "stderr",
          "output_type": "stream",
          "text": []
        },
        {
          "name": "stdout",
          "output_type": "stream",
          "text": [
            "Fold 5/5 Epoch 10/40 - Loss: 0.0278, MAE: 0.1270 - Val Loss: 0.0105, Val MAE: 0.0724\n",
            "  -> New best validation loss: 0.0105. Saving checkpoint...\n"
          ]
        },
        {
          "name": "stderr",
          "output_type": "stream",
          "text": []
        },
        {
          "name": "stdout",
          "output_type": "stream",
          "text": [
            "Fold 5/5 Epoch 11/40 - Loss: 0.0256, MAE: 0.1216 - Val Loss: 0.0110, Val MAE: 0.0759\n",
            "  -> Validation loss did not improve by at least 0.002. Epochs without improvement: 1\n"
          ]
        },
        {
          "name": "stderr",
          "output_type": "stream",
          "text": []
        },
        {
          "name": "stdout",
          "output_type": "stream",
          "text": [
            "Fold 5/5 Epoch 12/40 - Loss: 0.0241, MAE: 0.1171 - Val Loss: 0.0088, Val MAE: 0.0653\n",
            "  -> Validation loss did not improve by at least 0.002. Epochs without improvement: 2\n"
          ]
        },
        {
          "name": "stderr",
          "output_type": "stream",
          "text": []
        },
        {
          "name": "stdout",
          "output_type": "stream",
          "text": [
            "Fold 5/5 Epoch 13/40 - Loss: 0.0226, MAE: 0.1138 - Val Loss: 0.0084, Val MAE: 0.0634\n",
            "  -> New best validation loss: 0.0084. Saving checkpoint...\n"
          ]
        },
        {
          "name": "stderr",
          "output_type": "stream",
          "text": []
        },
        {
          "name": "stdout",
          "output_type": "stream",
          "text": [
            "Fold 5/5 Epoch 14/40 - Loss: 0.0213, MAE: 0.1116 - Val Loss: 0.0124, Val MAE: 0.0896\n",
            "  -> Validation loss did not improve by at least 0.002. Epochs without improvement: 1\n"
          ]
        },
        {
          "name": "stderr",
          "output_type": "stream",
          "text": []
        },
        {
          "name": "stdout",
          "output_type": "stream",
          "text": [
            "Fold 5/5 Epoch 15/40 - Loss: 0.0207, MAE: 0.1089 - Val Loss: 0.0085, Val MAE: 0.0659\n",
            "  -> Validation loss did not improve by at least 0.002. Epochs without improvement: 2\n"
          ]
        },
        {
          "name": "stderr",
          "output_type": "stream",
          "text": []
        },
        {
          "name": "stdout",
          "output_type": "stream",
          "text": [
            "Fold 5/5 Epoch 16/40 - Loss: 0.0197, MAE: 0.1060 - Val Loss: 0.0088, Val MAE: 0.0679\n",
            "  -> Validation loss did not improve by at least 0.002. Epochs without improvement: 3\n"
          ]
        },
        {
          "name": "stderr",
          "output_type": "stream",
          "text": []
        },
        {
          "name": "stdout",
          "output_type": "stream",
          "text": [
            "Fold 5/5 Epoch 17/40 - Loss: 0.0182, MAE: 0.1017 - Val Loss: 0.0087, Val MAE: 0.0670\n",
            "  -> Validation loss did not improve by at least 0.002. Epochs without improvement: 4\n"
          ]
        },
        {
          "name": "stderr",
          "output_type": "stream",
          "text": []
        },
        {
          "name": "stdout",
          "output_type": "stream",
          "text": [
            "Fold 5/5 Epoch 18/40 - Loss: 0.0184, MAE: 0.1034 - Val Loss: 0.0081, Val MAE: 0.0639\n",
            "  -> Validation loss did not improve by at least 0.002. Epochs without improvement: 5\n"
          ]
        },
        {
          "name": "stderr",
          "output_type": "stream",
          "text": []
        },
        {
          "name": "stdout",
          "output_type": "stream",
          "text": [
            "Fold 5/5 Epoch 19/40 - Loss: 0.0170, MAE: 0.0997 - Val Loss: 0.0086, Val MAE: 0.0660\n",
            "  -> Validation loss did not improve by at least 0.002. Epochs without improvement: 6\n"
          ]
        },
        {
          "name": "stderr",
          "output_type": "stream",
          "text": []
        },
        {
          "name": "stdout",
          "output_type": "stream",
          "text": [
            "Fold 5/5 Epoch 20/40 - Loss: 0.0160, MAE: 0.0958 - Val Loss: 0.0078, Val MAE: 0.0645\n",
            "  -> Validation loss did not improve by at least 0.002. Epochs without improvement: 7\n"
          ]
        },
        {
          "name": "stderr",
          "output_type": "stream",
          "text": []
        },
        {
          "name": "stdout",
          "output_type": "stream",
          "text": [
            "Fold 5/5 Epoch 21/40 - Loss: 0.0161, MAE: 0.0957 - Val Loss: 0.0081, Val MAE: 0.0645\n",
            "  -> Validation loss did not improve by at least 0.002. Epochs without improvement: 8\n"
          ]
        },
        {
          "name": "stderr",
          "output_type": "stream",
          "text": []
        },
        {
          "name": "stdout",
          "output_type": "stream",
          "text": [
            "Fold 5/5 Epoch 22/40 - Loss: 0.0150, MAE: 0.0919 - Val Loss: 0.0077, Val MAE: 0.0637\n",
            "  -> Validation loss did not improve by at least 0.002. Epochs without improvement: 9\n"
          ]
        },
        {
          "name": "stderr",
          "output_type": "stream",
          "text": []
        },
        {
          "name": "stdout",
          "output_type": "stream",
          "text": [
            "Fold 5/5 Epoch 23/40 - Loss: 0.0147, MAE: 0.0911 - Val Loss: 0.0080, Val MAE: 0.0657\n",
            "  -> Validation loss did not improve by at least 0.002. Epochs without improvement: 10\n"
          ]
        },
        {
          "name": "stderr",
          "output_type": "stream",
          "text": []
        },
        {
          "name": "stdout",
          "output_type": "stream",
          "text": [
            "Fold 5/5 Epoch 24/40 - Loss: 0.0141, MAE: 0.0898 - Val Loss: 0.0076, Val MAE: 0.0619\n",
            "  -> Validation loss did not improve by at least 0.002. Epochs without improvement: 11\n"
          ]
        },
        {
          "name": "stderr",
          "output_type": "stream",
          "text": []
        },
        {
          "name": "stdout",
          "output_type": "stream",
          "text": [
            "Fold 5/5 Epoch 25/40 - Loss: 0.0134, MAE: 0.0871 - Val Loss: 0.0068, Val MAE: 0.0561\n",
            "  -> Validation loss did not improve by at least 0.002. Epochs without improvement: 12\n"
          ]
        },
        {
          "name": "stderr",
          "output_type": "stream",
          "text": []
        },
        {
          "name": "stdout",
          "output_type": "stream",
          "text": [
            "Fold 5/5 Epoch 26/40 - Loss: 0.0131, MAE: 0.0856 - Val Loss: 0.0067, Val MAE: 0.0569\n",
            "  -> Validation loss did not improve by at least 0.002. Epochs without improvement: 13\n"
          ]
        },
        {
          "name": "stderr",
          "output_type": "stream",
          "text": []
        },
        {
          "name": "stdout",
          "output_type": "stream",
          "text": [
            "Fold 5/5 Epoch 27/40 - Loss: 0.0130, MAE: 0.0854 - Val Loss: 0.0064, Val MAE: 0.0542\n",
            "  -> New best validation loss: 0.0064. Saving checkpoint...\n"
          ]
        },
        {
          "name": "stderr",
          "output_type": "stream",
          "text": []
        },
        {
          "name": "stdout",
          "output_type": "stream",
          "text": [
            "Fold 5/5 Epoch 28/40 - Loss: 0.0127, MAE: 0.0841 - Val Loss: 0.0074, Val MAE: 0.0624\n",
            "  -> Validation loss did not improve by at least 0.002. Epochs without improvement: 1\n"
          ]
        },
        {
          "name": "stderr",
          "output_type": "stream",
          "text": []
        },
        {
          "name": "stdout",
          "output_type": "stream",
          "text": [
            "Fold 5/5 Epoch 29/40 - Loss: 0.0125, MAE: 0.0844 - Val Loss: 0.0065, Val MAE: 0.0553\n",
            "  -> Validation loss did not improve by at least 0.002. Epochs without improvement: 2\n"
          ]
        },
        {
          "name": "stderr",
          "output_type": "stream",
          "text": []
        },
        {
          "name": "stdout",
          "output_type": "stream",
          "text": [
            "Fold 5/5 Epoch 30/40 - Loss: 0.0123, MAE: 0.0831 - Val Loss: 0.0068, Val MAE: 0.0584\n",
            "  -> Validation loss did not improve by at least 0.002. Epochs without improvement: 3\n"
          ]
        },
        {
          "name": "stderr",
          "output_type": "stream",
          "text": []
        },
        {
          "name": "stdout",
          "output_type": "stream",
          "text": [
            "Fold 5/5 Epoch 31/40 - Loss: 0.0117, MAE: 0.0812 - Val Loss: 0.0063, Val MAE: 0.0541\n",
            "  -> Validation loss did not improve by at least 0.002. Epochs without improvement: 4\n"
          ]
        },
        {
          "name": "stderr",
          "output_type": "stream",
          "text": []
        },
        {
          "name": "stdout",
          "output_type": "stream",
          "text": [
            "Fold 5/5 Epoch 32/40 - Loss: 0.0112, MAE: 0.0790 - Val Loss: 0.0061, Val MAE: 0.0524\n",
            "  -> Validation loss did not improve by at least 0.002. Epochs without improvement: 5\n"
          ]
        },
        {
          "name": "stderr",
          "output_type": "stream",
          "text": []
        },
        {
          "name": "stdout",
          "output_type": "stream",
          "text": [
            "Fold 5/5 Epoch 33/40 - Loss: 0.0111, MAE: 0.0786 - Val Loss: 0.0060, Val MAE: 0.0529\n",
            "  -> Validation loss did not improve by at least 0.002. Epochs without improvement: 6\n"
          ]
        },
        {
          "name": "stderr",
          "output_type": "stream",
          "text": []
        },
        {
          "name": "stdout",
          "output_type": "stream",
          "text": [
            "Fold 5/5 Epoch 34/40 - Loss: 0.0108, MAE: 0.0782 - Val Loss: 0.0071, Val MAE: 0.0606\n",
            "  -> Validation loss did not improve by at least 0.002. Epochs without improvement: 7\n"
          ]
        },
        {
          "name": "stderr",
          "output_type": "stream",
          "text": []
        },
        {
          "name": "stdout",
          "output_type": "stream",
          "text": [
            "Fold 5/5 Epoch 35/40 - Loss: 0.0108, MAE: 0.0780 - Val Loss: 0.0064, Val MAE: 0.0566\n",
            "  -> Validation loss did not improve by at least 0.002. Epochs without improvement: 8\n"
          ]
        },
        {
          "name": "stderr",
          "output_type": "stream",
          "text": []
        },
        {
          "name": "stdout",
          "output_type": "stream",
          "text": [
            "Fold 5/5 Epoch 36/40 - Loss: 0.0108, MAE: 0.0773 - Val Loss: 0.0058, Val MAE: 0.0497\n",
            "  -> Validation loss did not improve by at least 0.002. Epochs without improvement: 9\n"
          ]
        },
        {
          "name": "stderr",
          "output_type": "stream",
          "text": []
        },
        {
          "name": "stdout",
          "output_type": "stream",
          "text": [
            "Fold 5/5 Epoch 37/40 - Loss: 0.0104, MAE: 0.0759 - Val Loss: 0.0057, Val MAE: 0.0492\n",
            "  -> Validation loss did not improve by at least 0.002. Epochs without improvement: 10\n"
          ]
        },
        {
          "name": "stderr",
          "output_type": "stream",
          "text": []
        },
        {
          "name": "stdout",
          "output_type": "stream",
          "text": [
            "Fold 5/5 Epoch 38/40 - Loss: 0.0102, MAE: 0.0743 - Val Loss: 0.0058, Val MAE: 0.0511\n",
            "  -> Validation loss did not improve by at least 0.002. Epochs without improvement: 11\n"
          ]
        },
        {
          "name": "stderr",
          "output_type": "stream",
          "text": []
        },
        {
          "name": "stdout",
          "output_type": "stream",
          "text": [
            "Fold 5/5 Epoch 39/40 - Loss: 0.0099, MAE: 0.0738 - Val Loss: 0.0060, Val MAE: 0.0533\n",
            "  -> Validation loss did not improve by at least 0.002. Epochs without improvement: 12\n"
          ]
        },
        {
          "name": "stderr",
          "output_type": "stream",
          "text": []
        },
        {
          "name": "stdout",
          "output_type": "stream",
          "text": [
            "Fold 5/5 Epoch 40/40 - Loss: 0.0098, MAE: 0.0734 - Val Loss: 0.0058, Val MAE: 0.0501\n",
            "  -> Validation loss did not improve by at least 0.002. Epochs without improvement: 13\n",
            "Training plot saved to '/content/drive/MyDrive/Colab Notebooks/cnn/training_history.png'\n",
            "\n",
            "Training complete.\n"
          ]
        }
      ],
      "source": [
        "# @title train_cnn.py\n",
        "\n",
        "\n",
        "if X_cam is None or X_cam.shape[0] == 0:\n",
        "    print(\"Exiting: No data loaded.\")\n",
        "else:\n",
        "    print(f\"Data loaded. Shapes: Cam={X_cam.shape}, Lidar={X_lidar.shape}, Target={y.shape}\")\n",
        "\n",
        "    kfold = KFold(n_splits=N_SPLITS, shuffle=True, random_state=42)\n",
        "    fold_histories = []\n",
        "\n",
        "    best_overall_val_loss = float('inf')\n",
        "    best_overall_checkpoint_path = None\n",
        "\n",
        "    for fold, (train_idx, val_idx) in enumerate(kfold.split(X_cam)):\n",
        "        print(f\"\\n--- Starting Fold {fold+1}/{N_SPLITS} ---\")\n",
        "\n",
        "        # Define o caminho do checkpoint para este fold específico\n",
        "        checkpoint_path = CHECKPOINT_DIR / f'checkpoint_fold_{fold+1}.pth'\n",
        "\n",
        "        # Split data for this fold\n",
        "        X_cam_train, y_train = X_cam[train_idx], y[train_idx]\n",
        "        X_lidar_train = X_lidar[train_idx]\n",
        "\n",
        "        X_cam_val, y_val = X_cam[val_idx], y[val_idx]\n",
        "        X_lidar_val = X_lidar[val_idx]\n",
        "\n",
        "        # Converte dados para tensores PyTorch\n",
        "        train_dataset = TensorDataset(torch.tensor(\n",
        "            X_cam_train), torch.tensor(X_lidar_train), torch.tensor(y_train))\n",
        "        train_loader = DataLoader(\n",
        "            train_dataset, batch_size=BATCH_SIZE, shuffle=True)\n",
        "\n",
        "        val_dataset = TensorDataset(torch.tensor(\n",
        "            X_cam_val), torch.tensor(X_lidar_val), torch.tensor(y_val))\n",
        "        val_loader = DataLoader(\n",
        "            val_dataset, batch_size=BATCH_SIZE, shuffle=False)\n",
        "\n",
        "        # Instancia o modelo e o otimizador\n",
        "        model = CNNNavigationModel(lidar_shape_in=X_lidar.shape[1]).to(device)\n",
        "        optimizer = optim.Adam(model.parameters(), lr=LEARNING_RATE)\n",
        "\n",
        "        # Inicializa variáveis para o loop de treino e checkpoint\n",
        "        start_epoch = 0\n",
        "        best_val_loss = float('inf')\n",
        "        history = {'loss': [], 'val_loss': [], 'mae': [],\n",
        "                   'val_mae': [], \"best_val_mae\": 0.0}\n",
        "\n",
        "        # --- Early Stopping parameters ---\n",
        "        patience = 15  # Number of epochs to wait for improvement\n",
        "        epochs_no_improve = 0\n",
        "        min_delta = 0.002 # Minimum change to qualify as an improvement\n",
        "\n",
        "        # --- LÓGICA PARA CARREGAR CHECKPOINT ---_\n",
        "        if checkpoint_path.exists():\n",
        "            print(f\"Resuming training from checkpoint: {checkpoint_path}\")\n",
        "            checkpoint = torch.load(checkpoint_path, map_location=device)\n",
        "            model.load_state_dict(checkpoint['model_state_dict'])\n",
        "            optimizer.load_state_dict(checkpoint['optimizer_state_dict'])\n",
        "            start_epoch = checkpoint['epoch'] + 1\n",
        "            best_val_loss = checkpoint['best_val_loss']\n",
        "            history = checkpoint['history']\n",
        "            # Reset early stopping counter if resuming\n",
        "            epochs_no_improve = 0\n",
        "            print(\n",
        "                f\"Resumed from epoch {start_epoch}. Best validation loss so far: {best_val_loss:.4f}\")\n",
        "        else:\n",
        "            print(\n",
        "                f\"No checkpoint found for fold {fold+1}. Starting from scratch.\")\n",
        "\n",
        "        # Define as funções de perda\n",
        "        criterion = nn.MSELoss()\n",
        "        mae_criterion = nn.L1Loss()\n",
        "\n",
        "        print(\n",
        "            f\"\\n--- Starting Model Training for Fold {fold+1} from Epoch {start_epoch+1} ---\")\n",
        "        for epoch in range(start_epoch, EPOCHS):\n",
        "            # --- Fase de Treinamento ---_\n",
        "            model.train()\n",
        "            running_loss, running_mae = 0.0, 0.0\n",
        "            progress_bar = tqdm(\n",
        "                train_loader, desc=f\"Fold {fold+1} Epoch {epoch+1}/{EPOCHS} [T]\", leave=False)\n",
        "            for cam_batch, lidar_batch, target_batch in progress_bar:\n",
        "                cam_batch, lidar_batch, target_batch = cam_batch.to(\n",
        "                    device), lidar_batch.to(device), target_batch.to(device)\n",
        "                optimizer.zero_grad()\n",
        "                outputs = model(cam_batch, lidar_batch)\n",
        "                loss = criterion(outputs, target_batch)\n",
        "                mae = mae_criterion(outputs, target_batch)\n",
        "                loss.backward()\n",
        "                optimizer.step()\n",
        "                running_loss += loss.item()\n",
        "                running_mae += mae.item()\n",
        "                progress_bar.set_postfix(loss=loss.item(), mae=mae.item())\n",
        "\n",
        "            epoch_loss = running_loss / len(train_loader)\n",
        "            epoch_mae = running_mae / len(train_loader)\n",
        "            history['loss'].append(epoch_loss)\n",
        "            history['mae'].append(epoch_mae)\n",
        "\n",
        "            # --- Fase de Validação ---_\n",
        "            model.eval()\n",
        "            val_loss, val_mae = 0.0, 0.0\n",
        "            with torch.no_grad():\n",
        "                for cam_batch, lidar_batch, target_batch in val_loader:\n",
        "                    cam_batch, lidar_batch, target_batch = cam_batch.to(\n",
        "                        device), lidar_batch.to(device), target_batch.to(device)\n",
        "                    outputs = model(cam_batch, lidar_batch)\n",
        "                    val_loss += criterion(outputs, target_batch).item()\n",
        "                    val_mae += mae_criterion(outputs, target_batch).item()\n",
        "\n",
        "            epoch_val_loss = val_loss / len(val_loader)\n",
        "            epoch_val_mae = val_mae / len(val_loader)\n",
        "            history['val_loss'].append(epoch_val_loss)\n",
        "            history['val_mae'].append(epoch_val_mae)\n",
        "\n",
        "            print(\n",
        "                f\"Fold {fold+1}/{N_SPLITS} Epoch {epoch+1}/{EPOCHS} - \"\n",
        "                f\"Loss: {epoch_loss:.4f}, MAE: {epoch_mae:.4f} - \"\n",
        "                f\"Val Loss: {epoch_val_loss:.4f}, Val MAE: {epoch_val_mae:.4f}\"\n",
        "            )\n",
        "\n",
        "            if epoch_val_loss < best_val_loss - min_delta:\n",
        "                best_val_loss = epoch_val_loss\n",
        "                epochs_no_improve = 0\n",
        "                print(\n",
        "                    f\"  -> New best validation loss: {best_val_loss:.4f}. Saving checkpoint...\")\n",
        "                torch.save({\n",
        "                    'epoch': epoch,\n",
        "                    'model_state_dict': model.state_dict(),\n",
        "                    'optimizer_state_dict': optimizer.state_dict(),\n",
        "                    'best_val_loss': best_val_loss,\n",
        "                    'best_val_mae': epoch_val_mae,\n",
        "                    'history': history\n",
        "                }, checkpoint_path)\n",
        "\n",
        "                history['best_val_mae'] = epoch_val_mae # Update best MAE when a new best loss is found\n",
        "            else:\n",
        "                epochs_no_improve += 1\n",
        "                print(f\"  -> Validation loss did not improve by at least {min_delta}. Epochs without improvement: {epochs_no_improve}\")\n",
        "\n",
        "            if epochs_no_improve == patience:\n",
        "                print(f\"  -> Early stopping triggered after {patience} epochs without improvement.\")\n",
        "                break # Exit the epoch loop\n",
        "\n",
        "\n",
        "        # If training stopped due to early stopping, load the best model state for this fold\n",
        "        if epochs_no_improve == patience and checkpoint_path.exists():\n",
        "             print(f\"  -> Loading best model state for fold {fold+1} after early stopping.\")\n",
        "             checkpoint = torch.load(checkpoint_path, map_location=device)\n",
        "             model.load_state_dict(checkpoint['model_state_dict'])\n",
        "             # Update history with the best validation MAE from the saved checkpoint\n",
        "             history['best_val_mae'] = checkpoint['best_val_mae']\n",
        "\n",
        "\n",
        "        fold_histories.append(history)\n",
        "\n",
        "        # Update best overall checkpoint if this fold performed better\n",
        "        if checkpoint_path.exists():\n",
        "            checkpoint = torch.load(checkpoint_path, map_location=device)\n",
        "            current_fold_best_val_loss = checkpoint['best_val_loss']\n",
        "            if current_fold_best_val_loss < best_overall_val_loss:\n",
        "                best_overall_val_loss = current_fold_best_val_loss\n",
        "                best_overall_checkpoint_path = checkpoint_path\n",
        "\n",
        "    # Agrega e plota os resultados de todos os folds\n",
        "    if fold_histories:\n",
        "        # Ensure all histories have the same length for averaging (due to early stopping)\n",
        "        min_len = min(len(h['loss']) for h in fold_histories)\n",
        "        for h in fold_histories:\n",
        "            for key in h:\n",
        "                if isinstance(h[key], list):\n",
        "                    h[key] = h[key][:min_len]\n",
        "\n",
        "\n",
        "        avg_history = {\n",
        "            'loss': np.mean([h['loss'] for h in fold_histories], axis=0).tolist(),\n",
        "            'val_loss': np.mean([h['val_loss'] for h in fold_histories], axis=0).tolist(),\n",
        "            'mae': np.mean([h['mae'] for h in fold_histories], axis=0).tolist(),\n",
        "            'val_mae': np.mean([h['val_mae'] for h in fold_histories], axis=0).tolist(),\n",
        "            # best_val_mae is a single value per fold, so we average the last recorded best\n",
        "            'best_val_mae': np.mean([h['best_val_mae'] for h in fold_histories]).tolist()\n",
        "        }\n",
        "        plot_history(avg_history)\n",
        "\n",
        "    print(\"\\nTraining complete.\")"
      ]
    },
    {
      "cell_type": "markdown",
      "metadata": {
        "id": "J8YdHV2Rwv3Q"
      },
      "source": []
    },
    {
      "cell_type": "code",
      "execution_count": null,
      "metadata": {
        "id": "lUVN4FSgwzoA"
      },
      "outputs": [],
      "source": [
        "final_model_path = SCRIPT_DIR / 'final_cnn_model.pth'\n"
      ]
    },
    {
      "cell_type": "code",
      "execution_count": null,
      "metadata": {
        "colab": {
          "base_uri": "https://localhost:8080/"
        },
        "id": "nJDT6C0ghQ5b",
        "outputId": "370041c9-1773-4aee-ba10-e8c991dd2161"
      },
      "outputs": [
        {
          "name": "stdout",
          "output_type": "stream",
          "text": [
            "\n",
            "--- Starting Fine-tuning on Entire Dataset ---\n",
            "Loading best model from: /content/drive/MyDrive/Colab Notebooks/cnn/checkpoints/checkpoint_fold_2.pth\n",
            "Loading samples from '/content/drive/MyDrive/Colab Notebooks/cnn/merged_dataset.h5'...\n",
            "Full dataset loaded. Shapes: Cam=(5891, 4, 40, 200), Lidar=(5891, 20), Target=(5891, 2)\n",
            "Tamanho da característica da câmera achatada calculado dinamicamente: 24576\n",
            "Fine-tuning for 2 epochs with LR: 0.001\n"
          ]
        },
        {
          "name": "stderr",
          "output_type": "stream",
          "text": []
        },
        {
          "name": "stdout",
          "output_type": "stream",
          "text": [
            "Fine-tune Epoch 1/2 - Loss: 0.0130, MAE: 0.0847\n"
          ]
        },
        {
          "name": "stderr",
          "output_type": "stream",
          "text": []
        },
        {
          "name": "stdout",
          "output_type": "stream",
          "text": [
            "Fine-tune Epoch 2/2 - Loss: 0.0144, MAE: 0.0891\n",
            "Fine-tuned model saved to: /content/drive/MyDrive/Colab Notebooks/cnn/final_cnn_model.pth\n"
          ]
        }
      ],
      "source": [
        "def fine_tune_model(best_checkpoint_path: Path, full_dataset_path: Path, fine_tune_epochs: int = 2, fine_tune_lr: float = 1e-3):\n",
        "    print(f\"\\n--- Starting Fine-tuning on Entire Dataset ---\")\n",
        "    print(f\"Loading best model from: {best_checkpoint_path}\")\n",
        "\n",
        "    # Device configuration\n",
        "    device = torch.device(\"cuda\" if torch.cuda.is_available() else \"cpu\")\n",
        "\n",
        "    # Load the full dataset\n",
        "    (X_cam, X_lidar), y = load_data(full_dataset_path)\n",
        "    if X_cam is None or X_cam.shape[0] == 0:\n",
        "        print(\"Exiting fine-tuning: No data loaded for full dataset.\")\n",
        "        return\n",
        "\n",
        "    print(\n",
        "        f\"Full dataset loaded. Shapes: Cam={X_cam.shape}, Lidar={X_lidar.shape}, Target={y.shape}\")\n",
        "\n",
        "    # Create DataLoader for the full dataset\n",
        "    full_dataset = TensorDataset(torch.tensor(\n",
        "        X_cam), torch.tensor(X_lidar), torch.tensor(y))\n",
        "    full_loader = DataLoader(full_dataset, batch_size=BATCH_SIZE, shuffle=True)\n",
        "\n",
        "    # Instantiate model and load state dict\n",
        "    model = CNNNavigationModel(lidar_shape_in=X_lidar.shape[1]).to(device)\n",
        "    checkpoint = torch.load(best_checkpoint_path, map_location=device)\n",
        "    model.load_state_dict(checkpoint['model_state_dict'])\n",
        "\n",
        "    # Optimizer for fine-tuning (can be a new one with lower LR)\n",
        "    optimizer = optim.Adam(model.parameters(), lr=fine_tune_lr)\n",
        "    # Optionally load optimizer state if resuming fine-tuning\n",
        "    if 'optimizer_state_dict' in checkpoint:\n",
        "        optimizer.load_state_dict(checkpoint['optimizer_state_dict'])\n",
        "\n",
        "    criterion = nn.MSELoss()\n",
        "    mae_criterion = nn.L1Loss()\n",
        "\n",
        "    print(f\"Fine-tuning for {fine_tune_epochs} epochs with LR: {fine_tune_lr}\")\n",
        "\n",
        "    model.train()  # Set model to training mode\n",
        "    for epoch in range(fine_tune_epochs):\n",
        "        running_loss, running_mae = 0.0, 0.0\n",
        "        progress_bar = tqdm(\n",
        "            full_loader, desc=f\"Fine-tune Epoch {epoch+1}/{fine_tune_epochs}\", leave=False)\n",
        "        for cam_batch, lidar_batch, target_batch in progress_bar:\n",
        "            cam_batch, lidar_batch, target_batch = cam_batch.to(\n",
        "                device), lidar_batch.to(device), target_batch.to(device)\n",
        "            optimizer.zero_grad()\n",
        "            outputs = model(cam_batch, lidar_batch)\n",
        "            loss = criterion(outputs, target_batch)\n",
        "            mae = mae_criterion(outputs, target_batch)\n",
        "            loss.backward()\n",
        "            optimizer.step()\n",
        "            running_loss += loss.item()\n",
        "            running_mae += mae.item()\n",
        "            progress_bar.set_postfix(loss=loss.item(), mae=mae.item())\n",
        "\n",
        "        epoch_loss = running_loss / len(full_loader)\n",
        "        epoch_mae = running_mae / len(full_loader)\n",
        "        print(\n",
        "            f\"Fine-tune Epoch {epoch+1}/{fine_tune_epochs} - Loss: {epoch_loss:.4f}, MAE: {epoch_mae:.4f}\")\n",
        "\n",
        "    # Save the final fine-tuned model\n",
        "    torch.save(model.state_dict(), FINAL_MODEL_PATH)\n",
        "    print(f\"Fine-tuned model saved to: {FINAL_MODEL_PATH}\")\n",
        "best_overall_checkpoint_path = True\n",
        "if best_overall_checkpoint_path:\n",
        "    fine_tune_model(Path(\"/content/drive/MyDrive/Colab Notebooks/cnn/checkpoints/checkpoint_fold_2.pth\"), DATASET_PATH)\n",
        "else:\n",
        "    print(\"\\nNo best model found for fine-tuning.\")"
      ]
    },
    {
      "cell_type": "code",
      "execution_count": null,
      "metadata": {},
      "outputs": [],
      "source": []
    },
    {
      "cell_type": "code",
      "execution_count": null,
      "metadata": {
        "colab": {
          "base_uri": "https://localhost:8080/"
        },
        "id": "14fd745a",
        "outputId": "117c5c28-aee5-40ed-b46b-70dfc835e540"
      },
      "outputs": [
        {
          "name": "stdout",
          "output_type": "stream",
          "text": [
            "Merging /content/drive/MyDrive/Colab Notebooks/cnn/cnn_dataset.h5 and /content/drive/MyDrive/Colab Notebooks/cnn/test.h5 into /content/drive/MyDrive/Colab Notebooks/cnn/merged_dataset.h5\n",
            "Merging dataset: angle\n",
            "Merging dataset: camera_image\n",
            "Merging dataset: dist\n",
            "Merging dataset: lidar_data\n",
            "Merging complete.\n"
          ]
        }
      ],
      "source": [
        "import h5py\n",
        "import numpy as np\n",
        "from pathlib import Path\n",
        "\n",
        "# Define the paths to the input and output HDF5 files\n",
        "# Adjust these paths based on your environment if necessary\n",
        "if 'google.colab' in sys.modules:\n",
        "    SCRIPT_DIR = Path(\"/content/drive/MyDrive/Colab Notebooks/cnn\")\n",
        "else:\n",
        "    SCRIPT_DIR = Path.cwd()\n",
        "\n",
        "input_file_1 = SCRIPT_DIR / 'cnn_dataset.h5'\n",
        "input_file_2 = SCRIPT_DIR / 'test.h5'\n",
        "output_file = SCRIPT_DIR / 'merged_dataset.h5'\n",
        "\n",
        "print(f\"Merging {input_file_1} and {input_file_2} into {output_file}\")\n",
        "\n",
        "try:\n",
        "    # Open the input files in read mode\n",
        "    with h5py.File(input_file_1, 'r') as hf1, \\\n",
        "         h5py.File(input_file_2, 'r') as hf2, \\\n",
        "         h5py.File(output_file, 'w') as hf_out:\n",
        "\n",
        "        # Assume both files have the same datasets, get dataset names from the first file\n",
        "        dataset_names = list(hf1.keys())\n",
        "\n",
        "        for name in dataset_names:\n",
        "            print(f\"Merging dataset: {name}\")\n",
        "            # Read data from both input files\n",
        "            data1 = np.array(hf1[name])\n",
        "            data2 = np.array(hf2[name])\n",
        "\n",
        "            # Concatenate the data along the first axis\n",
        "            merged_data = np.concatenate((data1, data2), axis=0)\n",
        "\n",
        "            # Write the merged data to the output file\n",
        "            hf_out.create_dataset(name, data=merged_data)\n",
        "\n",
        "    print(\"Merging complete.\")\n",
        "\n",
        "except FileNotFoundError as e:\n",
        "    print(f\"Error: {e}. Please ensure the input files exist at the specified paths.\")\n",
        "except Exception as e:\n",
        "    print(f\"An error occurred during merging: {e}\")"
      ]
    }
  ],
  "metadata": {
    "accelerator": "TPU",
    "colab": {
      "gpuType": "V28",
      "include_colab_link": true,
      "provenance": []
    },
    "kernelspec": {
      "display_name": "ia",
      "language": "python",
      "name": "python3"
    },
    "language_info": {
      "codemirror_mode": {
        "name": "ipython",
        "version": 3
      },
      "file_extension": ".py",
      "mimetype": "text/x-python",
      "name": "python",
      "nbconvert_exporter": "python",
      "pygments_lexer": "ipython3",
      "version": "3.12.10"
    }
  },
  "nbformat": 4,
  "nbformat_minor": 0
}
